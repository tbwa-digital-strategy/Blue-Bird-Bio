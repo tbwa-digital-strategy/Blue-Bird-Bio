{
 "cells": [
  {
   "cell_type": "code",
   "execution_count": 3,
   "metadata": {},
   "outputs": [],
   "source": [
    "import pandas as pd\n",
    "from pandas import ExcelWriter\n",
    "import numpy as np\n",
    "import re\n",
    "import collections\n",
    "import statistics"
   ]
  },
  {
   "cell_type": "code",
   "execution_count": 10,
   "metadata": {},
   "outputs": [
    {
     "name": "stdout",
     "output_type": "stream",
     "text": [
      "Index(['State', 'Endos', 'Opthamologists', 'Rheumatolosits ',\n",
      "       'Allergy & Immunology', 'Neurologists', 'Gastroenterologists ',\n",
      "       'Infectious Disease', 'Population', 'Density Endos (per capita)',\n",
      "       'Density Opthamologists (per capita)', 'code',\n",
      "       'Rheumatoid Arthritis (%)', 'Diabetes Mellitus (%)', 'Square Mileage',\n",
      "       'Adult Smoking Rate (%)', 'Hematology Oncologists',\n",
      "       'Thalassemia Patients', 'Density Thalassemia (per capita)',\n",
      "       'Density Hematology Oncologists (per capita)', 'Population Density',\n",
      "       'Bone Marrow Medical Centers by State',\n",
      "       'Density Hematology Oncologists (per Thalassemia capita)',\n",
      "       'Bone Marrow Medical Centers by Thalassemia Patients', 'BR (35-50)'],\n",
      "      dtype='object')\n",
      "[26.150133968883694, 23.075683981466405, 20.85355676283807, 28.05264014921617, 12.573849866031116, 15.693960001776384, 7.886074637691889, 18.966270631948248, 19.011930780276227, 17.64212633043684, 19.909913697393158, 14.1719550575104, 24.734669370716325, 16.333202078368096, 24.32372803576451, 23.988886948025993, 23.806246354714077, 25.800072831702515, 27.15465723209924, 19.86425354906518, 12.497749618817817, 6.074888754015367, 20.77745651562477, 18.22048820925792, 28.646222077479905, 24.232407739108552, 22.862603289269167, 22.984363684810447, 18.70752979142303, 14.795977084659455, 7.8099743904785885, 23.684485959172797, 9.895121164122989, 20.275194884016994, 25.845732980030494, 22.49732210264533, 27.3981780231818, 17.383385489911625, 18.159608011487276, 14.293715453051677, 23.77580625582876, 25.465231743964, 24.232407739108552, 21.340598345003183, 24.36938818409249, 15.937480792858942, 15.374338963480525, 17.20074489659971, 26.33277456219561, 20.838336713395407, 26.256674314982313]\n"
     ]
    }
   ],
   "source": [
    "df_doc = pd.read_excel(\"https://github.com/tbwa-digital-strategy/Blue-Bird-Bio/blob/master/HCPStateLevelData.xlsx?raw=true\")\n",
    "df_med_cent = pd.read_excel(\"https://github.com/tbwa-digital-strategy/Blue-Bird-Bio/blob/master/medical%20centers.xlsx?raw=true\")\n",
    "df_pop = pd.read_csv(\"https://raw.githubusercontent.com/tbwa-digital-strategy/Blue-Bird-Bio/master/scprc-est2016-18%2Bpop-res.csv\")\n",
    "\n",
    "# print(list(df_med_cent['data'].values))\n",
    "# use only one of the following lines, whichever you prefer\n",
    "# for i in list(df_med_cent['data'].values):\n",
    "#     print(re.findall(\"[(][\\d]{3}[)][ ]?[\\d]{3}-[\\d]{4}\", str(i)))\n",
    "filtered = [i for i in list(df_med_cent['data'].values) if len(re.findall(\".*?(\\(?\\d{3}\\D{0,3}\\d{3}\\D{0,3}\\d{4}).*?\", str(i))) == 0]\n",
    "\n",
    "revised_filtered_lst = []\n",
    "\n",
    "def chunks(l, n):\n",
    "    \"\"\"Yield successive n-sized chunks from l.\"\"\"\n",
    "    for i in range(0, len(l), n):\n",
    "        yield l[i:i + n]\n",
    "\n",
    "df_doc[\"code\"] = df_doc[\"State\"].apply(lambda x: x.split(\",\")[1])\n",
    "\n",
    "for code in df_doc[\"code\"]:\n",
    "    if code not in bonemarrow_nums_by_state:\n",
    "        bonemarrow_nums_by_state[code] = 0\n",
    "        \n",
    "print(df_doc.columns)\n",
    "\n",
    "curr_nat_avg = 20.16\n",
    "\n",
    "avg = statistics.mean(df_doc[\"BR (35-50)\"])\n",
    "std = statistics.stdev(df_doc[\"BR (35-50)\"])\n",
    "\n",
    "br_mtp = []\n",
    "\n",
    "for num in df_doc[\"BR (35-50)\"]:\n",
    "    br_mtp.append((avg-num)/std)\n",
    "    \n",
    "\n",
    "curr_elder_women_br_estimate = []\n",
    "\n",
    "for mtp in br_mtp:\n",
    "    curr_elder_women_br_estimate.append(curr_nat_avg + mtp*curr_nat_avg/avg*std)\n",
    "    \n",
    "df_doc[\"BR (35-50) (current)\"] = curr_elder_women_br_estimate\n",
    "\n",
    "print(curr_elder_women_br_estimate)"
   ]
  },
  {
   "cell_type": "code",
   "execution_count": null,
   "metadata": {},
   "outputs": [],
   "source": []
  }
 ],
 "metadata": {
  "kernelspec": {
   "display_name": "Python 3",
   "language": "python",
   "name": "python3"
  },
  "language_info": {
   "codemirror_mode": {
    "name": "ipython",
    "version": 3
   },
   "file_extension": ".py",
   "mimetype": "text/x-python",
   "name": "python",
   "nbconvert_exporter": "python",
   "pygments_lexer": "ipython3",
   "version": "3.6.4"
  }
 },
 "nbformat": 4,
 "nbformat_minor": 2
}
