{
 "cells": [
  {
   "cell_type": "code",
   "execution_count": 3,
   "metadata": {},
   "outputs": [],
   "source": [
    "import pandas as pd\n",
    "from pandas import ExcelWriter\n",
    "import numpy as np\n",
    "import re\n",
    "import collections\n",
    "import statistics"
   ]
  },
  {
   "cell_type": "code",
   "execution_count": 11,
   "metadata": {},
   "outputs": [
    {
     "name": "stdout",
     "output_type": "stream",
     "text": [
      "Index(['State', 'Endos', 'Opthamologists', 'Rheumatolosits ',\n",
      "       'Allergy & Immunology', 'Neurologists', 'Gastroenterologists ',\n",
      "       'Infectious Disease', 'Population', 'Density Endos (per capita)',\n",
      "       'Density Opthamologists (per capita)', 'code',\n",
      "       'Rheumatoid Arthritis (%)', 'Diabetes Mellitus (%)', 'Square Mileage',\n",
      "       'Adult Smoking Rate (%)', 'Hematology Oncologists',\n",
      "       'Thalassemia Patients', 'Density Thalassemia (per capita)',\n",
      "       'Density Hematology Oncologists (per capita)', 'Population Density',\n",
      "       'Bone Marrow Medical Centers by State',\n",
      "       'Density Hematology Oncologists (per Thalassemia capita)',\n",
      "       'Bone Marrow Medical Centers by Thalassemia Patients', 'BR (35-50)'],\n",
      "      dtype='object')\n",
      "[26.150133968883694, 23.075683981466405, 20.85355676283807, 28.05264014921617, 15.250104879160967, 17.30010487916097, 12.170104879160968, 19.450104879160968, 19.48010487916097, 18.58010487916097, 20.07010487916097, 16.30010487916097, 24.734669370716325, 17.72010487916097, 24.32372803576451, 23.988886948025993, 23.806246354714077, 25.800072831702515, 27.15465723209924, 20.04010487916097, 15.200104879160966, 10.980104879160967, 20.77745651562477, 18.96010487916097, 28.646222077479905, 24.232407739108552, 22.862603289269167, 22.984363684810447, 19.28010487916097, 16.71010487916097, 12.120104879160968, 23.684485959172797, 13.490104879160969, 20.275194884016994, 25.845732980030494, 22.49732210264533, 27.3981780231818, 18.41010487916097, 18.920104879160967, 16.380104879160967, 23.77580625582876, 25.465231743964, 24.232407739108552, 21.340598345003183, 24.36938818409249, 17.46010487916097, 17.090104879160968, 18.29010487916097, 26.33277456219561, 20.838336713395407, 26.256674314982313]\n"
     ]
    }
   ],
   "source": [
    "df_doc = pd.read_excel(\"https://github.com/tbwa-digital-strategy/Blue-Bird-Bio/blob/master/HCPStateLevelData.xlsx?raw=true\")\n",
    "df_med_cent = pd.read_excel(\"https://github.com/tbwa-digital-strategy/Blue-Bird-Bio/blob/master/medical%20centers.xlsx?raw=true\")\n",
    "df_pop = pd.read_csv(\"https://raw.githubusercontent.com/tbwa-digital-strategy/Blue-Bird-Bio/master/scprc-est2016-18%2Bpop-res.csv\")\n",
    "\n",
    "# print(list(df_med_cent['data'].values))\n",
    "# use only one of the following lines, whichever you prefer\n",
    "# for i in list(df_med_cent['data'].values):\n",
    "#     print(re.findall(\"[(][\\d]{3}[)][ ]?[\\d]{3}-[\\d]{4}\", str(i)))\n",
    "filtered = [i for i in list(df_med_cent['data'].values) if len(re.findall(\".*?(\\(?\\d{3}\\D{0,3}\\d{3}\\D{0,3}\\d{4}).*?\", str(i))) == 0]\n",
    "\n",
    "revised_filtered_lst = []\n",
    "\n",
    "def chunks(l, n):\n",
    "    \"\"\"Yield successive n-sized chunks from l.\"\"\"\n",
    "    for i in range(0, len(l), n):\n",
    "        yield l[i:i + n]\n",
    "\n",
    "df_doc[\"code\"] = df_doc[\"State\"].apply(lambda x: x.split(\",\")[1])\n",
    "\n",
    "for code in df_doc[\"code\"]:\n",
    "    if code not in bonemarrow_nums_by_state:\n",
    "        bonemarrow_nums_by_state[code] = 0\n",
    "        \n",
    "print(df_doc.columns)\n",
    "\n",
    "curr_nat_avg = 20.16\n",
    "\n",
    "avg = statistics.mean(df_doc[\"BR (35-50)\"])\n",
    "std = statistics.stdev(df_doc[\"BR (35-50)\"])\n",
    "\n",
    "br_mtp = []\n",
    "\n",
    "add_const = ((24.3/26)*(8)+(.5/26)*8+6.4/26*8)/129\n",
    "\n",
    "for num in df_doc[\"BR (35-50)\"]:\n",
    "    br_mtp.append((avg-num)/std)\n",
    "    \n",
    "\n",
    "curr_elder_women_br_estimate = []\n",
    "\n",
    "for mtp in br_mtp:\n",
    "    if mtp > 0:\n",
    "        curr_elder_women_br_estimate.append(curr_nat_avg + mtp*curr_nat_avg/avg*std)\n",
    "    elif mtp < 0:\n",
    "        curr_elder_women_br_estimate.append(curr_nat_avg + mtp*std + add_const)\n",
    "    \n",
    "df_doc[\"BR (35-50) (current)\"] = curr_elder_women_br_estimate\n",
    "\n",
    "print(curr_elder_women_br_estimate)"
   ]
  },
  {
   "cell_type": "code",
   "execution_count": null,
   "metadata": {},
   "outputs": [],
   "source": []
  }
 ],
 "metadata": {
  "kernelspec": {
   "display_name": "Python 3",
   "language": "python",
   "name": "python3"
  },
  "language_info": {
   "codemirror_mode": {
    "name": "ipython",
    "version": 3
   },
   "file_extension": ".py",
   "mimetype": "text/x-python",
   "name": "python",
   "nbconvert_exporter": "python",
   "pygments_lexer": "ipython3",
   "version": "3.6.4"
  }
 },
 "nbformat": 4,
 "nbformat_minor": 2
}
