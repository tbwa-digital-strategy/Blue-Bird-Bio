{
 "cells": [
  {
   "cell_type": "code",
   "execution_count": 2,
   "metadata": {},
   "outputs": [],
   "source": [
    "import pandas as pd\n",
    "from pandas import ExcelWriter\n",
    "import numpy as np\n",
    "import re\n",
    "import collections"
   ]
  },
  {
   "cell_type": "code",
   "execution_count": 3,
   "metadata": {},
   "outputs": [
    {
     "name": "stdout",
     "output_type": "stream",
     "text": [
      "OrderedDict([('AK', 0), ('AL', 169), ('AR', 11), ('AZ', 341), ('CA', 1887), ('CO', 367), ('CT', 87), ('DC', 63), ('DE', 39), ('FL', 922), ('GA', 500), ('HI', 2), ('IA', 100), ('ID', 0), ('IL', 655), ('IN', 197), ('KS', 249), ('KY', 108), ('LA', 64), ('MA', 979), ('MD', 689), ('ME', 0), ('MI', 604), ('MN', 544), ('MO', 559), ('MS', 53), ('MT', 0), ('NC', 586), ('ND', 0), ('NE', 118), ('NH', 38), ('NJ', 363), ('NM', 0), ('NV', 0), ('NY', 1293), ('OH', 848), ('OK', 82), ('OR', 226), ('PA', 776), ('RI', 22), ('SC', 102), ('SD', 16), ('TN', 488), ('TX', 1615), ('UT', 220), ('VA', 191), ('VT', 0), ('WA', 569), ('WI', 380), ('WV', 64), ('WY', 0)])\n",
      "Index(['State', 'Endos', 'Opthamologists', 'Rheumatolosits ',\n",
      "       'Allergy & Immunology', 'Neurologists', 'Gastroenterologists ',\n",
      "       'Infectious Disease', 'Population', 'Density Endos (per capita)',\n",
      "       'Density Opthamologists (per capita)', 'code',\n",
      "       'Rheumatoid Arthritis (%)', 'Diabetes Mellitus (%)', 'Square Mileage',\n",
      "       'Adult Smoking Rate (%)', 'Hematology Oncologists',\n",
      "       'Thalassemia Patients', 'Density Thalassemia (per capita)',\n",
      "       'Density Hematology Oncologists (per capita)', 'Population Density',\n",
      "       'Bone Marrow Medical Centers by State',\n",
      "       'Density Hematology Oncologists (per Thalassemia capita)',\n",
      "       'Bone Marrow Medical Centers by Thalassemia Patients'],\n",
      "      dtype='object')\n"
     ]
    }
   ],
   "source": [
    "df_doc = pd.read_excel(\"https://github.com/tbwa-digital-strategy/Blue-Bird-Bio/blob/master/HCPStateLevelData.xlsx?raw=true\")\n",
    "df_med_cent = pd.read_excel(\"https://github.com/tbwa-digital-strategy/Blue-Bird-Bio/blob/master/medical%20centers.xlsx?raw=true\")\n",
    "df_pop = pd.read_csv(\"https://raw.githubusercontent.com/tbwa-digital-strategy/Blue-Bird-Bio/master/scprc-est2016-18%2Bpop-res.csv\")\n",
    "\n",
    "# print(list(df_med_cent['data'].values))\n",
    "# use only one of the following lines, whichever you prefer\n",
    "# for i in list(df_med_cent['data'].values):\n",
    "#     print(re.findall(\"[(][\\d]{3}[)][ ]?[\\d]{3}-[\\d]{4}\", str(i)))\n",
    "filtered = [i for i in list(df_med_cent['data'].values) if len(re.findall(\".*?(\\(?\\d{3}\\D{0,3}\\d{3}\\D{0,3}\\d{4}).*?\", str(i))) == 0]\n",
    "\n",
    "revised_filtered_lst = []\n",
    "\n",
    "def chunks(l, n):\n",
    "    \"\"\"Yield successive n-sized chunks from l.\"\"\"\n",
    "    for i in range(0, len(l), n):\n",
    "        yield l[i:i + n]\n",
    "\n",
    "for i, row in enumerate(filtered):\n",
    "    if i % 4 == 2:\n",
    "        revised_filtered_lst.append(str(row)[-2:])\n",
    "    else:\n",
    "        revised_filtered_lst.append(row)\n",
    "\n",
    "\n",
    "        \n",
    "bonemarrow_nums_by_state = {}        \n",
    "for bucket in chunks(revised_filtered_lst, 4):\n",
    "#     print(bucket)\n",
    "    if bucket[2] in bonemarrow_nums_by_state:\n",
    "        bonemarrow_nums_by_state[bucket[2]] += bucket[3]\n",
    "    else:\n",
    "        bonemarrow_nums_by_state[bucket[2]] = bucket[3]\n",
    "    \n",
    "\n",
    "\n",
    "\n",
    "for i, row_doc in df_doc.iterrows():\n",
    "    for j, row_pop in df_pop.iterrows():\n",
    "        if row_pop[\"NAME\"].lower() in row_doc[\"State\"].lower():\n",
    "            df_doc.at[i, \"Population\"] = row_pop[\"POPESTIMATE2016\"]\n",
    "            \n",
    "df_doc[\"Density Endos (per capita)\"] = df_doc[\"Endos\"]/df_doc[\"Population\"]\n",
    "df_doc[\"Density Opthamologists (per capita)\"] = df_doc[\"Opthamologists\"]/df_doc[\"Population\"]\n",
    "df_doc[\"Density Thalassemia (per capita)\"] = df_doc[\"Thalassemia Patients\"]/df_doc[\"Population\"]\n",
    "df_doc[\"Density Hematology Oncologists (per capita)\"] = df_doc[\"Hematology Oncologists\"]/df_doc[\"Population\"]\n",
    "df_doc[\"Population Density\"] = df_doc[\"Population\"]/df_doc[\"Square Mileage\"]\n",
    "\n",
    "df_doc[\"code\"] = df_doc[\"State\"].apply(lambda x: x.split(\",\")[1])\n",
    "\n",
    "for code in df_doc[\"code\"]:\n",
    "    if code not in bonemarrow_nums_by_state:\n",
    "        bonemarrow_nums_by_state[code] = 0\n",
    "        \n",
    "od = collections.OrderedDict(sorted(bonemarrow_nums_by_state.items()))\n",
    "df_doc['Bone Marrow Medical Centers by State'] = list(od.values())\n",
    "print(od)\n",
    "print(df_doc.columns)"
   ]
  },
  {
   "cell_type": "code",
   "execution_count": 193,
   "metadata": {},
   "outputs": [
    {
     "data": {
      "text/html": [
       "<script>requirejs.config({paths: { 'plotly': ['https://cdn.plot.ly/plotly-latest.min']},});if(!window.Plotly) {{require(['plotly'],function(plotly) {window.Plotly=plotly;});}}</script>"
      ],
      "text/vnd.plotly.v1+html": [
       "<script>requirejs.config({paths: { 'plotly': ['https://cdn.plot.ly/plotly-latest.min']},});if(!window.Plotly) {{require(['plotly'],function(plotly) {window.Plotly=plotly;});}}</script>"
      ]
     },
     "metadata": {},
     "output_type": "display_data"
    },
    {
     "data": {
      "application/vnd.plotly.v1+json": {
       "data": [
        {
         "autocolorscale": false,
         "colorbar": {
          "title": "Density of Endos Doctors"
         },
         "colorscale": [
          [
           0,
           "rgb(165,0,38)"
          ],
          [
           0.1111111111111111,
           "rgb(215,48,39)"
          ],
          [
           0.2222222222222222,
           "rgb(244,109,67)"
          ],
          [
           0.3333333333333333,
           "rgb(253,174,97)"
          ],
          [
           0.4444444444444444,
           "rgb(254,224,144)"
          ],
          [
           0.5555555555555556,
           "rgb(224,243,248)"
          ],
          [
           0.6666666666666666,
           "rgb(171,217,233)"
          ],
          [
           0.7777777777777778,
           "rgb(116,173,209)"
          ],
          [
           0.8888888888888888,
           "rgb(69,117,180)"
          ],
          [
           1,
           "rgb(49,54,149)"
          ]
         ],
         "locationmode": "USA-states",
         "locations": [
          "AL",
          "AK",
          "AZ",
          "AR",
          "CA",
          "CO",
          "CT",
          "DE",
          "DC",
          "FL",
          "GA",
          "HI",
          "ID",
          "IL",
          "IN",
          "IA",
          "KS",
          "KY",
          "LA",
          "ME",
          "MD",
          "MA",
          "MI",
          "MN",
          "MS",
          "MO",
          "MT",
          "NE",
          "NV",
          "NH",
          "NJ",
          "NM",
          "NY",
          "NC",
          "ND",
          "OH",
          "OK",
          "OR",
          "PA",
          "RI",
          "SC",
          "SD",
          "TN",
          "TX",
          "UT",
          "VT",
          "VA",
          "WA",
          "WV",
          "WI",
          "WY"
         ],
         "marker": {
          "line": {
           "color": "rgb(255,255,255)",
           "width": 2
          }
         },
         "type": "choropleth",
         "z": [
          1.3982275409701232e-05,
          1.3479014522290247e-05,
          1.6447674536878932e-05,
          1.4446448220317966e-05,
          2.0815277608669572e-05,
          1.8409741279964335e-05,
          4.1661400740174897e-05,
          1.680557524958905e-05,
          9.542404979667338e-05,
          2.1394848033267678e-05,
          1.4451468332225873e-05,
          1.540015554157097e-05,
          7.723659350974964e-06,
          2.4137722815983296e-05,
          1.8845017520589688e-05,
          1.1803388721000748e-05,
          1.4446448220317966e-05,
          1.1494320228155494e-05,
          1.9010326665763856e-05,
          1.502089030318916e-05,
          4.5043195759889516e-05,
          5.828139756148871e-05,
          1.913721382311171e-05,
          2.5543700380003304e-05,
          1.3049038285878331e-05,
          2.363367799113737e-05,
          1.0551356328895368e-05,
          1.782796641630609e-05,
          1.4625561808644592e-05,
          1.5732752969557122e-05,
          3.1751465626411134e-05,
          1.922138956230493e-05,
          3.610987917168495e-05,
          2.1386078037700205e-05,
          1.7151481888035127e-05,
          2.2213855194766e-05,
          1.299839609986948e-05,
          2.1253388022127952e-05,
          2.831614300966339e-05,
          3.502374988877593e-05,
          1.5520692005170608e-05,
          1.155462913106878e-05,
          1.879361810826748e-05,
          1.6617259927969384e-05,
          1.0159880467367611e-05,
          2.5616640569714087e-05,
          2.3300579376039014e-05,
          1.783754116355653e-05,
          2.4575364998782156e-05,
          2.0765887461349493e-05,
          1.7079390129137268e-05
         ]
        }
       ],
       "layout": {
        "geo": {
         "lakecolor": "rgb(255, 255, 255)",
         "projection": {
          "type": "albers usa"
         },
         "scope": "usa",
         "showlakes": true
        },
        "title": "Density of Endos Doctors in US, 2016"
       }
      },
      "text/html": [
       "<div id=\"9b48171e-2fd0-4db0-a7d6-4525d3b0f27d\" style=\"height: 525px; width: 100%;\" class=\"plotly-graph-div\"></div><script type=\"text/javascript\">require([\"plotly\"], function(Plotly) { window.PLOTLYENV=window.PLOTLYENV || {};window.PLOTLYENV.BASE_URL=\"https://plot.ly\";Plotly.newPlot(\"9b48171e-2fd0-4db0-a7d6-4525d3b0f27d\", [{\"type\": \"choropleth\", \"colorscale\": [[0.0, \"rgb(165,0,38)\"], [0.1111111111111111, \"rgb(215,48,39)\"], [0.2222222222222222, \"rgb(244,109,67)\"], [0.3333333333333333, \"rgb(253,174,97)\"], [0.4444444444444444, \"rgb(254,224,144)\"], [0.5555555555555556, \"rgb(224,243,248)\"], [0.6666666666666666, \"rgb(171,217,233)\"], [0.7777777777777778, \"rgb(116,173,209)\"], [0.8888888888888888, \"rgb(69,117,180)\"], [1.0, \"rgb(49,54,149)\"]], \"autocolorscale\": false, \"locations\": [\"AL\", \"AK\", \"AZ\", \"AR\", \"CA\", \"CO\", \"CT\", \"DE\", \"DC\", \"FL\", \"GA\", \"HI\", \"ID\", \"IL\", \"IN\", \"IA\", \"KS\", \"KY\", \"LA\", \"ME\", \"MD\", \"MA\", \"MI\", \"MN\", \"MS\", \"MO\", \"MT\", \"NE\", \"NV\", \"NH\", \"NJ\", \"NM\", \"NY\", \"NC\", \"ND\", \"OH\", \"OK\", \"OR\", \"PA\", \"RI\", \"SC\", \"SD\", \"TN\", \"TX\", \"UT\", \"VT\", \"VA\", \"WA\", \"WV\", \"WI\", \"WY\"], \"z\": [1.3982275409701232e-05, 1.3479014522290247e-05, 1.6447674536878932e-05, 1.4446448220317966e-05, 2.0815277608669572e-05, 1.8409741279964335e-05, 4.1661400740174897e-05, 1.680557524958905e-05, 9.542404979667338e-05, 2.1394848033267678e-05, 1.4451468332225873e-05, 1.540015554157097e-05, 7.723659350974964e-06, 2.4137722815983296e-05, 1.8845017520589688e-05, 1.1803388721000748e-05, 1.4446448220317966e-05, 1.1494320228155494e-05, 1.9010326665763856e-05, 1.502089030318916e-05, 4.5043195759889516e-05, 5.828139756148871e-05, 1.913721382311171e-05, 2.5543700380003304e-05, 1.3049038285878331e-05, 2.363367799113737e-05, 1.0551356328895368e-05, 1.782796641630609e-05, 1.4625561808644592e-05, 1.5732752969557122e-05, 3.1751465626411134e-05, 1.922138956230493e-05, 3.610987917168495e-05, 2.1386078037700205e-05, 1.7151481888035127e-05, 2.2213855194766e-05, 1.299839609986948e-05, 2.1253388022127952e-05, 2.831614300966339e-05, 3.502374988877593e-05, 1.5520692005170608e-05, 1.155462913106878e-05, 1.879361810826748e-05, 1.6617259927969384e-05, 1.0159880467367611e-05, 2.5616640569714087e-05, 2.3300579376039014e-05, 1.783754116355653e-05, 2.4575364998782156e-05, 2.0765887461349493e-05, 1.7079390129137268e-05], \"locationmode\": \"USA-states\", \"marker\": {\"line\": {\"color\": \"rgb(255,255,255)\", \"width\": 2}}, \"colorbar\": {\"title\": \"Density of Endos Doctors\"}}], {\"title\": \"Density of Endos Doctors in US, 2016\", \"geo\": {\"scope\": \"usa\", \"projection\": {\"type\": \"albers usa\"}, \"showlakes\": true, \"lakecolor\": \"rgb(255, 255, 255)\"}}, {\"showLink\": true, \"linkText\": \"Export to plot.ly\"})});</script>"
      ],
      "text/vnd.plotly.v1+html": [
       "<div id=\"9b48171e-2fd0-4db0-a7d6-4525d3b0f27d\" style=\"height: 525px; width: 100%;\" class=\"plotly-graph-div\"></div><script type=\"text/javascript\">require([\"plotly\"], function(Plotly) { window.PLOTLYENV=window.PLOTLYENV || {};window.PLOTLYENV.BASE_URL=\"https://plot.ly\";Plotly.newPlot(\"9b48171e-2fd0-4db0-a7d6-4525d3b0f27d\", [{\"type\": \"choropleth\", \"colorscale\": [[0.0, \"rgb(165,0,38)\"], [0.1111111111111111, \"rgb(215,48,39)\"], [0.2222222222222222, \"rgb(244,109,67)\"], [0.3333333333333333, \"rgb(253,174,97)\"], [0.4444444444444444, \"rgb(254,224,144)\"], [0.5555555555555556, \"rgb(224,243,248)\"], [0.6666666666666666, \"rgb(171,217,233)\"], [0.7777777777777778, \"rgb(116,173,209)\"], [0.8888888888888888, \"rgb(69,117,180)\"], [1.0, \"rgb(49,54,149)\"]], \"autocolorscale\": false, \"locations\": [\"AL\", \"AK\", \"AZ\", \"AR\", \"CA\", \"CO\", \"CT\", \"DE\", \"DC\", \"FL\", \"GA\", \"HI\", \"ID\", \"IL\", \"IN\", \"IA\", \"KS\", \"KY\", \"LA\", \"ME\", \"MD\", \"MA\", \"MI\", \"MN\", \"MS\", \"MO\", \"MT\", \"NE\", \"NV\", \"NH\", \"NJ\", \"NM\", \"NY\", \"NC\", \"ND\", \"OH\", \"OK\", \"OR\", \"PA\", \"RI\", \"SC\", \"SD\", \"TN\", \"TX\", \"UT\", \"VT\", \"VA\", \"WA\", \"WV\", \"WI\", \"WY\"], \"z\": [1.3982275409701232e-05, 1.3479014522290247e-05, 1.6447674536878932e-05, 1.4446448220317966e-05, 2.0815277608669572e-05, 1.8409741279964335e-05, 4.1661400740174897e-05, 1.680557524958905e-05, 9.542404979667338e-05, 2.1394848033267678e-05, 1.4451468332225873e-05, 1.540015554157097e-05, 7.723659350974964e-06, 2.4137722815983296e-05, 1.8845017520589688e-05, 1.1803388721000748e-05, 1.4446448220317966e-05, 1.1494320228155494e-05, 1.9010326665763856e-05, 1.502089030318916e-05, 4.5043195759889516e-05, 5.828139756148871e-05, 1.913721382311171e-05, 2.5543700380003304e-05, 1.3049038285878331e-05, 2.363367799113737e-05, 1.0551356328895368e-05, 1.782796641630609e-05, 1.4625561808644592e-05, 1.5732752969557122e-05, 3.1751465626411134e-05, 1.922138956230493e-05, 3.610987917168495e-05, 2.1386078037700205e-05, 1.7151481888035127e-05, 2.2213855194766e-05, 1.299839609986948e-05, 2.1253388022127952e-05, 2.831614300966339e-05, 3.502374988877593e-05, 1.5520692005170608e-05, 1.155462913106878e-05, 1.879361810826748e-05, 1.6617259927969384e-05, 1.0159880467367611e-05, 2.5616640569714087e-05, 2.3300579376039014e-05, 1.783754116355653e-05, 2.4575364998782156e-05, 2.0765887461349493e-05, 1.7079390129137268e-05], \"locationmode\": \"USA-states\", \"marker\": {\"line\": {\"color\": \"rgb(255,255,255)\", \"width\": 2}}, \"colorbar\": {\"title\": \"Density of Endos Doctors\"}}], {\"title\": \"Density of Endos Doctors in US, 2016\", \"geo\": {\"scope\": \"usa\", \"projection\": {\"type\": \"albers usa\"}, \"showlakes\": true, \"lakecolor\": \"rgb(255, 255, 255)\"}}, {\"showLink\": true, \"linkText\": \"Export to plot.ly\"})});</script>"
      ]
     },
     "metadata": {},
     "output_type": "display_data"
    }
   ],
   "source": [
    "from plotly.offline import init_notebook_mode, iplot\n",
    "init_notebook_mode(connected=True)\n",
    "\n",
    "scl=[[0.0, 'rgb(165,0,38)'], [0.1111111111111111, 'rgb(215,48,39)'], [0.2222222222222222, 'rgb(244,109,67)'], [0.3333333333333333, 'rgb(253,174,97)'], [0.4444444444444444, 'rgb(254,224,144)'], [0.5555555555555556, 'rgb(224,243,248)'], [0.6666666666666666, 'rgb(171,217,233)'], [0.7777777777777778, 'rgb(116,173,209)'], [0.8888888888888888, 'rgb(69,117,180)'], [1.0, 'rgb(49,54,149)']]\n",
    "\n",
    "\n",
    "data = [ dict(\n",
    "        type='choropleth',\n",
    "        colorscale = scl,\n",
    "        autocolorscale = False,\n",
    "        locations = df_doc['code'],\n",
    "        z = df_doc[\"Density Endos (per capita)\"],\n",
    "        locationmode = 'USA-states',\n",
    "        marker = dict(\n",
    "            line = dict (\n",
    "                color = 'rgb(255,255,255)',\n",
    "                width = 2\n",
    "            ) ),\n",
    "        colorbar = dict(\n",
    "            title = \"Density of Endos Doctors\")\n",
    "        ) ]\n",
    "\n",
    "layout = dict(\n",
    "        title = 'Density of Endos Doctors in US, 2016',\n",
    "        geo = dict(\n",
    "            scope='usa',\n",
    "            projection=dict( type='albers usa' ),\n",
    "            showlakes = True,\n",
    "            lakecolor = 'rgb(255, 255, 255)'),\n",
    "             )\n",
    "\n",
    "fig = dict( data=data, layout=layout )\n",
    "iplot( fig, filename='Endos-cloropleth-map' )"
   ]
  },
  {
   "cell_type": "code",
   "execution_count": 194,
   "metadata": {},
   "outputs": [
    {
     "data": {
      "application/vnd.plotly.v1+json": {
       "data": [
        {
         "autocolorscale": false,
         "colorbar": {
          "title": "Density of Opthamologists Doctors"
         },
         "colorscale": [
          [
           0,
           "rgb(165,0,38)"
          ],
          [
           0.1111111111111111,
           "rgb(215,48,39)"
          ],
          [
           0.2222222222222222,
           "rgb(244,109,67)"
          ],
          [
           0.3333333333333333,
           "rgb(253,174,97)"
          ],
          [
           0.4444444444444444,
           "rgb(254,224,144)"
          ],
          [
           0.5555555555555556,
           "rgb(224,243,248)"
          ],
          [
           0.6666666666666666,
           "rgb(171,217,233)"
          ],
          [
           0.7777777777777778,
           "rgb(116,173,209)"
          ],
          [
           0.8888888888888888,
           "rgb(69,117,180)"
          ],
          [
           1,
           "rgb(49,54,149)"
          ]
         ],
         "locationmode": "USA-states",
         "locations": [
          "AL",
          "AK",
          "AZ",
          "AR",
          "CA",
          "CO",
          "CT",
          "DE",
          "DC",
          "FL",
          "GA",
          "HI",
          "ID",
          "IL",
          "IN",
          "IA",
          "KS",
          "KY",
          "LA",
          "ME",
          "MD",
          "MA",
          "MI",
          "MN",
          "MS",
          "MO",
          "MT",
          "NE",
          "NV",
          "NH",
          "NJ",
          "NM",
          "NY",
          "NC",
          "ND",
          "OH",
          "OK",
          "OR",
          "PA",
          "RI",
          "SC",
          "SD",
          "TN",
          "TX",
          "UT",
          "VT",
          "VA",
          "WA",
          "WV",
          "WI",
          "WY"
         ],
         "marker": {
          "line": {
           "color": "rgb(255,255,255)",
           "width": 2
          }
         },
         "type": "choropleth",
         "z": [
          4.338617810951412e-05,
          3.9089142114641715e-05,
          4.1696297729456244e-05,
          4.1963492449495046e-05,
          6.234392204212293e-05,
          4.9092643413238226e-05,
          6.906285894512215e-05,
          5.0416725748767154e-05,
          0.00015855072889293421,
          6.335979939103762e-05,
          4.510021996298678e-05,
          8.12008201282833e-05,
          3.624178618534406e-05,
          5.835235904058098e-05,
          4.160979868546203e-05,
          4.7213554884002993e-05,
          4.3683307713818613e-05,
          4.304735614858234e-05,
          6.813813715032212e-05,
          5.18220715460026e-05,
          9.058502468317265e-05,
          8.881673935692864e-05,
          6.0534028987842834e-05,
          5.199320573802091e-05,
          2.844021164870918e-05,
          5.137042507795831e-05,
          5.083835322104132e-05,
          5.138649143523519e-05,
          3.9795133293288775e-05,
          5.094415247285164e-05,
          6.573894995890757e-05,
          3.9884383341782735e-05,
          8.564068117716585e-05,
          5.223327815659497e-05,
          4.2219032339778774e-05,
          5.7687143335245045e-05,
          4.001467034665703e-05,
          6.547020678080795e-05,
          6.640995971050889e-05,
          6.531456060339295e-05,
          4.857775030189762e-05,
          4.159666487184761e-05,
          5.02165475852907e-05,
          4.4970683995130966e-05,
          5.374904505317059e-05,
          5.603640124624956e-05,
          5.4922794243520535e-05,
          5.1042810098792535e-05,
          5.297356455293042e-05,
          5.520265083475407e-05,
          2.220320716787845e-05
         ]
        }
       ],
       "layout": {
        "geo": {
         "lakecolor": "rgb(255, 255, 255)",
         "projection": {
          "type": "albers usa"
         },
         "scope": "usa",
         "showlakes": true
        },
        "title": "Density of Opthamologists Doctors in US, 2016"
       }
      },
      "text/html": [
       "<div id=\"d44d84e5-196a-4366-9692-c011195250f3\" style=\"height: 525px; width: 100%;\" class=\"plotly-graph-div\"></div><script type=\"text/javascript\">require([\"plotly\"], function(Plotly) { window.PLOTLYENV=window.PLOTLYENV || {};window.PLOTLYENV.BASE_URL=\"https://plot.ly\";Plotly.newPlot(\"d44d84e5-196a-4366-9692-c011195250f3\", [{\"type\": \"choropleth\", \"colorscale\": [[0.0, \"rgb(165,0,38)\"], [0.1111111111111111, \"rgb(215,48,39)\"], [0.2222222222222222, \"rgb(244,109,67)\"], [0.3333333333333333, \"rgb(253,174,97)\"], [0.4444444444444444, \"rgb(254,224,144)\"], [0.5555555555555556, \"rgb(224,243,248)\"], [0.6666666666666666, \"rgb(171,217,233)\"], [0.7777777777777778, \"rgb(116,173,209)\"], [0.8888888888888888, \"rgb(69,117,180)\"], [1.0, \"rgb(49,54,149)\"]], \"autocolorscale\": false, \"locations\": [\"AL\", \"AK\", \"AZ\", \"AR\", \"CA\", \"CO\", \"CT\", \"DE\", \"DC\", \"FL\", \"GA\", \"HI\", \"ID\", \"IL\", \"IN\", \"IA\", \"KS\", \"KY\", \"LA\", \"ME\", \"MD\", \"MA\", \"MI\", \"MN\", \"MS\", \"MO\", \"MT\", \"NE\", \"NV\", \"NH\", \"NJ\", \"NM\", \"NY\", \"NC\", \"ND\", \"OH\", \"OK\", \"OR\", \"PA\", \"RI\", \"SC\", \"SD\", \"TN\", \"TX\", \"UT\", \"VT\", \"VA\", \"WA\", \"WV\", \"WI\", \"WY\"], \"z\": [4.338617810951412e-05, 3.9089142114641715e-05, 4.1696297729456244e-05, 4.1963492449495046e-05, 6.234392204212293e-05, 4.9092643413238226e-05, 6.906285894512215e-05, 5.0416725748767154e-05, 0.00015855072889293421, 6.335979939103762e-05, 4.510021996298678e-05, 8.12008201282833e-05, 3.624178618534406e-05, 5.835235904058098e-05, 4.160979868546203e-05, 4.7213554884002993e-05, 4.3683307713818613e-05, 4.304735614858234e-05, 6.813813715032212e-05, 5.18220715460026e-05, 9.058502468317265e-05, 8.881673935692864e-05, 6.0534028987842834e-05, 5.199320573802091e-05, 2.844021164870918e-05, 5.137042507795831e-05, 5.083835322104132e-05, 5.138649143523519e-05, 3.9795133293288775e-05, 5.094415247285164e-05, 6.573894995890757e-05, 3.9884383341782735e-05, 8.564068117716585e-05, 5.223327815659497e-05, 4.2219032339778774e-05, 5.7687143335245045e-05, 4.001467034665703e-05, 6.547020678080795e-05, 6.640995971050889e-05, 6.531456060339295e-05, 4.857775030189762e-05, 4.159666487184761e-05, 5.02165475852907e-05, 4.4970683995130966e-05, 5.374904505317059e-05, 5.603640124624956e-05, 5.4922794243520535e-05, 5.1042810098792535e-05, 5.297356455293042e-05, 5.520265083475407e-05, 2.220320716787845e-05], \"locationmode\": \"USA-states\", \"marker\": {\"line\": {\"color\": \"rgb(255,255,255)\", \"width\": 2}}, \"colorbar\": {\"title\": \"Density of Opthamologists Doctors\"}}], {\"title\": \"Density of Opthamologists Doctors in US, 2016\", \"geo\": {\"scope\": \"usa\", \"projection\": {\"type\": \"albers usa\"}, \"showlakes\": true, \"lakecolor\": \"rgb(255, 255, 255)\"}}, {\"showLink\": true, \"linkText\": \"Export to plot.ly\"})});</script>"
      ],
      "text/vnd.plotly.v1+html": [
       "<div id=\"d44d84e5-196a-4366-9692-c011195250f3\" style=\"height: 525px; width: 100%;\" class=\"plotly-graph-div\"></div><script type=\"text/javascript\">require([\"plotly\"], function(Plotly) { window.PLOTLYENV=window.PLOTLYENV || {};window.PLOTLYENV.BASE_URL=\"https://plot.ly\";Plotly.newPlot(\"d44d84e5-196a-4366-9692-c011195250f3\", [{\"type\": \"choropleth\", \"colorscale\": [[0.0, \"rgb(165,0,38)\"], [0.1111111111111111, \"rgb(215,48,39)\"], [0.2222222222222222, \"rgb(244,109,67)\"], [0.3333333333333333, \"rgb(253,174,97)\"], [0.4444444444444444, \"rgb(254,224,144)\"], [0.5555555555555556, \"rgb(224,243,248)\"], [0.6666666666666666, \"rgb(171,217,233)\"], [0.7777777777777778, \"rgb(116,173,209)\"], [0.8888888888888888, \"rgb(69,117,180)\"], [1.0, \"rgb(49,54,149)\"]], \"autocolorscale\": false, \"locations\": [\"AL\", \"AK\", \"AZ\", \"AR\", \"CA\", \"CO\", \"CT\", \"DE\", \"DC\", \"FL\", \"GA\", \"HI\", \"ID\", \"IL\", \"IN\", \"IA\", \"KS\", \"KY\", \"LA\", \"ME\", \"MD\", \"MA\", \"MI\", \"MN\", \"MS\", \"MO\", \"MT\", \"NE\", \"NV\", \"NH\", \"NJ\", \"NM\", \"NY\", \"NC\", \"ND\", \"OH\", \"OK\", \"OR\", \"PA\", \"RI\", \"SC\", \"SD\", \"TN\", \"TX\", \"UT\", \"VT\", \"VA\", \"WA\", \"WV\", \"WI\", \"WY\"], \"z\": [4.338617810951412e-05, 3.9089142114641715e-05, 4.1696297729456244e-05, 4.1963492449495046e-05, 6.234392204212293e-05, 4.9092643413238226e-05, 6.906285894512215e-05, 5.0416725748767154e-05, 0.00015855072889293421, 6.335979939103762e-05, 4.510021996298678e-05, 8.12008201282833e-05, 3.624178618534406e-05, 5.835235904058098e-05, 4.160979868546203e-05, 4.7213554884002993e-05, 4.3683307713818613e-05, 4.304735614858234e-05, 6.813813715032212e-05, 5.18220715460026e-05, 9.058502468317265e-05, 8.881673935692864e-05, 6.0534028987842834e-05, 5.199320573802091e-05, 2.844021164870918e-05, 5.137042507795831e-05, 5.083835322104132e-05, 5.138649143523519e-05, 3.9795133293288775e-05, 5.094415247285164e-05, 6.573894995890757e-05, 3.9884383341782735e-05, 8.564068117716585e-05, 5.223327815659497e-05, 4.2219032339778774e-05, 5.7687143335245045e-05, 4.001467034665703e-05, 6.547020678080795e-05, 6.640995971050889e-05, 6.531456060339295e-05, 4.857775030189762e-05, 4.159666487184761e-05, 5.02165475852907e-05, 4.4970683995130966e-05, 5.374904505317059e-05, 5.603640124624956e-05, 5.4922794243520535e-05, 5.1042810098792535e-05, 5.297356455293042e-05, 5.520265083475407e-05, 2.220320716787845e-05], \"locationmode\": \"USA-states\", \"marker\": {\"line\": {\"color\": \"rgb(255,255,255)\", \"width\": 2}}, \"colorbar\": {\"title\": \"Density of Opthamologists Doctors\"}}], {\"title\": \"Density of Opthamologists Doctors in US, 2016\", \"geo\": {\"scope\": \"usa\", \"projection\": {\"type\": \"albers usa\"}, \"showlakes\": true, \"lakecolor\": \"rgb(255, 255, 255)\"}}, {\"showLink\": true, \"linkText\": \"Export to plot.ly\"})});</script>"
      ]
     },
     "metadata": {},
     "output_type": "display_data"
    }
   ],
   "source": [
    "data2 = [ dict(\n",
    "        type='choropleth',\n",
    "        colorscale = scl,\n",
    "        autocolorscale = False,\n",
    "        locations = df_doc['code'],\n",
    "        z = df_doc[\"Density Opthamologists (per capita)\"],\n",
    "        locationmode = 'USA-states',\n",
    "        marker = dict(\n",
    "            line = dict (\n",
    "                color = 'rgb(255,255,255)',\n",
    "                width = 2\n",
    "            ) ),\n",
    "        colorbar = dict(\n",
    "            title = \"Density of Opthamologists Doctors\")\n",
    "        ) ]\n",
    "\n",
    "layout2 = dict(\n",
    "        title = 'Density of Opthamologists Doctors in US, 2016',\n",
    "        geo = dict(\n",
    "            scope='usa',\n",
    "            projection=dict( type='albers usa' ),\n",
    "            showlakes = True,\n",
    "            lakecolor = 'rgb(255, 255, 255)'),\n",
    "             )\n",
    "\n",
    "fig2 = dict( data=data2, layout=layout2 )\n",
    "iplot( fig2, filename='Opthamologists-cloropleth-map' )"
   ]
  },
  {
   "cell_type": "code",
   "execution_count": 195,
   "metadata": {},
   "outputs": [],
   "source": [
    "import re\n",
    "\n",
    "rheumatoid_arthritis_data_string = 'Alabama (AL) 33.3 percent; Alaska (AK) 24.7 percent; Arizona (AZ) 25.0 percent; Arkansas (AR) 29.7 percent; California (CA) 20.6 percent; Colorado (CO) 23.7 percent; Connecticut (CT) 24.2 percent; Delaware (DE) 27.1 percent; District of Columbia (DC) 23.0 percent; Florida (FL) 24.8 percent; Georgia (GA) 27.0 percent; Hawaii (HI) 17.7 percent; Idaho (ID) 25.7 percent; Illinois (IL) 25.0 percent; Indiana (IN) 27.5 percent; Iowa (IA) 25.7  percent; Kansas (KS) 25.3 percent; Kentucky (KY) 32.2 percent; Louisiana (LA) 29.4 percent; Maine (ME) 29.8 percent; Maryland (MD) 24.6 percent; Massachusetts (MA) 25.4 percent; Michigan (MI) 30.6 percent; Minnesota (MN) 22.2 percent; Mississippi (MS) 29.1 percent; Missouri (MO) 30.1 percent; Montana (MT) 25.5 percent; Nebraska (NE) 24.2 percent; Nevada (NV) 22.4 percent; New Hampshire (NH) 24.5 percent; New Jersey (NJ) 23.1 percent; New Mexico (NM) 23.0 percent; New York (NY) 24.4 percent; North Carolina (NC) 26.8 percent; North Dakota (ND) 24.3 percent; Ohio (OH) 28.2 percent; Oklahoma (OK) 29.6 percent; Oregon (OR) 27.6 percent; Pennsylvania (PA) 28.7 percent; Rhode Island (RI) 26.9 percent; South Carolina (SC) 28.5 percent; South Dakota (SD) 24.6 percent; Tennessee (TN) 32.3 percent; Texas (TX) 23.1 percent; Utah (UT) 23.4 percent; Vermont (VT) 25.6 percent; Virginia (VA) 24.2 percent; Washington (WA) 25.8 percent; West Virginia (WV) 34.2 percent; Wisconsin (WI) 25.4 percent; Wyoming (WY) 26.8 percent'\n",
    "\n",
    "state_ra_percentages_list = rheumatoid_arthritis_data_string.split(\";\")\n",
    "\n",
    "newCol = []\n",
    "\n",
    "for st in state_ra_percentages_list:\n",
    "    state = re.search(r'\\((.*?)\\)',st).group(1)\n",
    "    percentage = re.findall(r\"[-+]?\\d*\\.\\d+|\\d+\", st)[0]\n",
    "    newCol.append(percentage)\n",
    "    \n",
    "df_doc['Rheumatoid Arthritis (%)'] = newCol\n",
    "\n",
    "\n",
    "writer = ExcelWriter('HCPStateLevelData.xlsx')\n",
    "df_doc.to_excel(writer,'Physician Population Data')\n",
    "writer.save()"
   ]
  },
  {
   "cell_type": "code",
   "execution_count": 196,
   "metadata": {},
   "outputs": [
    {
     "data": {
      "application/vnd.plotly.v1+json": {
       "data": [
        {
         "autocolorscale": false,
         "colorbar": {
          "title": "Rheumatoid Arthritis Rate"
         },
         "colorscale": [
          [
           0,
           "rgb(165,0,38)"
          ],
          [
           0.1111111111111111,
           "rgb(215,48,39)"
          ],
          [
           0.2222222222222222,
           "rgb(244,109,67)"
          ],
          [
           0.3333333333333333,
           "rgb(253,174,97)"
          ],
          [
           0.4444444444444444,
           "rgb(254,224,144)"
          ],
          [
           0.5555555555555556,
           "rgb(224,243,248)"
          ],
          [
           0.6666666666666666,
           "rgb(171,217,233)"
          ],
          [
           0.7777777777777778,
           "rgb(116,173,209)"
          ],
          [
           0.8888888888888888,
           "rgb(69,117,180)"
          ],
          [
           1,
           "rgb(49,54,149)"
          ]
         ],
         "locationmode": "USA-states",
         "locations": [
          "AL",
          "AK",
          "AZ",
          "AR",
          "CA",
          "CO",
          "CT",
          "DE",
          "DC",
          "FL",
          "GA",
          "HI",
          "ID",
          "IL",
          "IN",
          "IA",
          "KS",
          "KY",
          "LA",
          "ME",
          "MD",
          "MA",
          "MI",
          "MN",
          "MS",
          "MO",
          "MT",
          "NE",
          "NV",
          "NH",
          "NJ",
          "NM",
          "NY",
          "NC",
          "ND",
          "OH",
          "OK",
          "OR",
          "PA",
          "RI",
          "SC",
          "SD",
          "TN",
          "TX",
          "UT",
          "VT",
          "VA",
          "WA",
          "WV",
          "WI",
          "WY"
         ],
         "marker": {
          "line": {
           "color": "rgb(255,255,255)",
           "width": 2
          }
         },
         "type": "choropleth",
         "z": [
          "33.3",
          "24.7",
          "25.0",
          "29.7",
          "20.6",
          "23.7",
          "24.2",
          "27.1",
          "23.0",
          "24.8",
          "27.0",
          "17.7",
          "25.7",
          "25.0",
          "27.5",
          "25.7",
          "25.3",
          "32.2",
          "29.4",
          "29.8",
          "24.6",
          "25.4",
          "30.6",
          "22.2",
          "29.1",
          "30.1",
          "25.5",
          "24.2",
          "22.4",
          "24.5",
          "23.1",
          "23.0",
          "24.4",
          "26.8",
          "24.3",
          "28.2",
          "29.6",
          "27.6",
          "28.7",
          "26.9",
          "28.5",
          "24.6",
          "32.3",
          "23.1",
          "23.4",
          "25.6",
          "24.2",
          "25.8",
          "34.2",
          "25.4",
          "26.8"
         ]
        }
       ],
       "layout": {
        "geo": {
         "lakecolor": "rgb(255, 255, 255)",
         "projection": {
          "type": "albers usa"
         },
         "scope": "usa",
         "showlakes": true
        },
        "title": "Rheumatoid Arthritis Rates, 2015"
       }
      },
      "text/html": [
       "<div id=\"a3e0104e-39c0-4450-b7d5-b2414dd330fe\" style=\"height: 525px; width: 100%;\" class=\"plotly-graph-div\"></div><script type=\"text/javascript\">require([\"plotly\"], function(Plotly) { window.PLOTLYENV=window.PLOTLYENV || {};window.PLOTLYENV.BASE_URL=\"https://plot.ly\";Plotly.newPlot(\"a3e0104e-39c0-4450-b7d5-b2414dd330fe\", [{\"type\": \"choropleth\", \"colorscale\": [[0.0, \"rgb(165,0,38)\"], [0.1111111111111111, \"rgb(215,48,39)\"], [0.2222222222222222, \"rgb(244,109,67)\"], [0.3333333333333333, \"rgb(253,174,97)\"], [0.4444444444444444, \"rgb(254,224,144)\"], [0.5555555555555556, \"rgb(224,243,248)\"], [0.6666666666666666, \"rgb(171,217,233)\"], [0.7777777777777778, \"rgb(116,173,209)\"], [0.8888888888888888, \"rgb(69,117,180)\"], [1.0, \"rgb(49,54,149)\"]], \"autocolorscale\": false, \"locations\": [\"AL\", \"AK\", \"AZ\", \"AR\", \"CA\", \"CO\", \"CT\", \"DE\", \"DC\", \"FL\", \"GA\", \"HI\", \"ID\", \"IL\", \"IN\", \"IA\", \"KS\", \"KY\", \"LA\", \"ME\", \"MD\", \"MA\", \"MI\", \"MN\", \"MS\", \"MO\", \"MT\", \"NE\", \"NV\", \"NH\", \"NJ\", \"NM\", \"NY\", \"NC\", \"ND\", \"OH\", \"OK\", \"OR\", \"PA\", \"RI\", \"SC\", \"SD\", \"TN\", \"TX\", \"UT\", \"VT\", \"VA\", \"WA\", \"WV\", \"WI\", \"WY\"], \"z\": [\"33.3\", \"24.7\", \"25.0\", \"29.7\", \"20.6\", \"23.7\", \"24.2\", \"27.1\", \"23.0\", \"24.8\", \"27.0\", \"17.7\", \"25.7\", \"25.0\", \"27.5\", \"25.7\", \"25.3\", \"32.2\", \"29.4\", \"29.8\", \"24.6\", \"25.4\", \"30.6\", \"22.2\", \"29.1\", \"30.1\", \"25.5\", \"24.2\", \"22.4\", \"24.5\", \"23.1\", \"23.0\", \"24.4\", \"26.8\", \"24.3\", \"28.2\", \"29.6\", \"27.6\", \"28.7\", \"26.9\", \"28.5\", \"24.6\", \"32.3\", \"23.1\", \"23.4\", \"25.6\", \"24.2\", \"25.8\", \"34.2\", \"25.4\", \"26.8\"], \"locationmode\": \"USA-states\", \"marker\": {\"line\": {\"color\": \"rgb(255,255,255)\", \"width\": 2}}, \"colorbar\": {\"title\": \"Rheumatoid Arthritis Rate\"}}], {\"title\": \"Rheumatoid Arthritis Rates, 2015\", \"geo\": {\"scope\": \"usa\", \"projection\": {\"type\": \"albers usa\"}, \"showlakes\": true, \"lakecolor\": \"rgb(255, 255, 255)\"}}, {\"showLink\": true, \"linkText\": \"Export to plot.ly\"})});</script>"
      ],
      "text/vnd.plotly.v1+html": [
       "<div id=\"a3e0104e-39c0-4450-b7d5-b2414dd330fe\" style=\"height: 525px; width: 100%;\" class=\"plotly-graph-div\"></div><script type=\"text/javascript\">require([\"plotly\"], function(Plotly) { window.PLOTLYENV=window.PLOTLYENV || {};window.PLOTLYENV.BASE_URL=\"https://plot.ly\";Plotly.newPlot(\"a3e0104e-39c0-4450-b7d5-b2414dd330fe\", [{\"type\": \"choropleth\", \"colorscale\": [[0.0, \"rgb(165,0,38)\"], [0.1111111111111111, \"rgb(215,48,39)\"], [0.2222222222222222, \"rgb(244,109,67)\"], [0.3333333333333333, \"rgb(253,174,97)\"], [0.4444444444444444, \"rgb(254,224,144)\"], [0.5555555555555556, \"rgb(224,243,248)\"], [0.6666666666666666, \"rgb(171,217,233)\"], [0.7777777777777778, \"rgb(116,173,209)\"], [0.8888888888888888, \"rgb(69,117,180)\"], [1.0, \"rgb(49,54,149)\"]], \"autocolorscale\": false, \"locations\": [\"AL\", \"AK\", \"AZ\", \"AR\", \"CA\", \"CO\", \"CT\", \"DE\", \"DC\", \"FL\", \"GA\", \"HI\", \"ID\", \"IL\", \"IN\", \"IA\", \"KS\", \"KY\", \"LA\", \"ME\", \"MD\", \"MA\", \"MI\", \"MN\", \"MS\", \"MO\", \"MT\", \"NE\", \"NV\", \"NH\", \"NJ\", \"NM\", \"NY\", \"NC\", \"ND\", \"OH\", \"OK\", \"OR\", \"PA\", \"RI\", \"SC\", \"SD\", \"TN\", \"TX\", \"UT\", \"VT\", \"VA\", \"WA\", \"WV\", \"WI\", \"WY\"], \"z\": [\"33.3\", \"24.7\", \"25.0\", \"29.7\", \"20.6\", \"23.7\", \"24.2\", \"27.1\", \"23.0\", \"24.8\", \"27.0\", \"17.7\", \"25.7\", \"25.0\", \"27.5\", \"25.7\", \"25.3\", \"32.2\", \"29.4\", \"29.8\", \"24.6\", \"25.4\", \"30.6\", \"22.2\", \"29.1\", \"30.1\", \"25.5\", \"24.2\", \"22.4\", \"24.5\", \"23.1\", \"23.0\", \"24.4\", \"26.8\", \"24.3\", \"28.2\", \"29.6\", \"27.6\", \"28.7\", \"26.9\", \"28.5\", \"24.6\", \"32.3\", \"23.1\", \"23.4\", \"25.6\", \"24.2\", \"25.8\", \"34.2\", \"25.4\", \"26.8\"], \"locationmode\": \"USA-states\", \"marker\": {\"line\": {\"color\": \"rgb(255,255,255)\", \"width\": 2}}, \"colorbar\": {\"title\": \"Rheumatoid Arthritis Rate\"}}], {\"title\": \"Rheumatoid Arthritis Rates, 2015\", \"geo\": {\"scope\": \"usa\", \"projection\": {\"type\": \"albers usa\"}, \"showlakes\": true, \"lakecolor\": \"rgb(255, 255, 255)\"}}, {\"showLink\": true, \"linkText\": \"Export to plot.ly\"})});</script>"
      ]
     },
     "metadata": {},
     "output_type": "display_data"
    }
   ],
   "source": [
    "data3 = [ dict(\n",
    "        type='choropleth',\n",
    "        colorscale = scl,\n",
    "        autocolorscale = False,\n",
    "        locations = df_doc['code'],\n",
    "        z = df_doc[\"Rheumatoid Arthritis (%)\"],\n",
    "        locationmode = 'USA-states',\n",
    "        marker = dict(\n",
    "            line = dict (\n",
    "                color = 'rgb(255,255,255)',\n",
    "                width = 2\n",
    "            ) ),\n",
    "        colorbar = dict(\n",
    "            title = \"Rheumatoid Arthritis Rate\")\n",
    "        ) ]\n",
    "\n",
    "layout2 = dict(\n",
    "        title = 'Rheumatoid Arthritis Rates, 2015',\n",
    "        geo = dict(\n",
    "            scope='usa',\n",
    "            projection=dict( type='albers usa' ),\n",
    "            showlakes = True,\n",
    "            lakecolor = 'rgb(255, 255, 255)'),\n",
    "             )\n",
    "\n",
    "fig2 = dict( data=data3, layout=layout2 )\n",
    "iplot( fig2, filename='RA-cloropleth-map' )"
   ]
  },
  {
   "cell_type": "code",
   "execution_count": 197,
   "metadata": {},
   "outputs": [
    {
     "data": {
      "application/vnd.plotly.v1+json": {
       "data": [
        {
         "autocolorscale": false,
         "colorbar": {
          "title": "Rheumatoid Arthritis Rate"
         },
         "colorscale": [
          [
           0,
           "rgb(165,0,38)"
          ],
          [
           0.1111111111111111,
           "rgb(215,48,39)"
          ],
          [
           0.2222222222222222,
           "rgb(244,109,67)"
          ],
          [
           0.3333333333333333,
           "rgb(253,174,97)"
          ],
          [
           0.4444444444444444,
           "rgb(254,224,144)"
          ],
          [
           0.5555555555555556,
           "rgb(224,243,248)"
          ],
          [
           0.6666666666666666,
           "rgb(171,217,233)"
          ],
          [
           0.7777777777777778,
           "rgb(116,173,209)"
          ],
          [
           0.8888888888888888,
           "rgb(69,117,180)"
          ],
          [
           1,
           "rgb(49,54,149)"
          ]
         ],
         "locationmode": "USA-states",
         "locations": [
          "AL",
          "AK",
          "AZ",
          "AR",
          "CA",
          "CO",
          "CT",
          "DE",
          "DC",
          "FL",
          "GA",
          "HI",
          "ID",
          "IL",
          "IN",
          "IA",
          "KS",
          "KY",
          "LA",
          "ME",
          "MD",
          "MA",
          "MI",
          "MN",
          "MS",
          "MO",
          "MT",
          "NE",
          "NV",
          "NH",
          "NJ",
          "NM",
          "NY",
          "NC",
          "ND",
          "OH",
          "OK",
          "OR",
          "PA",
          "RI",
          "SC",
          "SD",
          "TN",
          "TX",
          "UT",
          "VT",
          "VA",
          "WA",
          "WV",
          "WI",
          "WY"
         ],
         "marker": {
          "line": {
           "color": "rgb(255,255,255)",
           "width": 2
          }
         },
         "type": "choropleth",
         "z": [
          12,
          7.8,
          9.1,
          11.2,
          9.6,
          6.4,
          8.1,
          9.9,
          9.3,
          9.3,
          10.7,
          7.8,
          7.3,
          9.1,
          10.5,
          7.7,
          8.9,
          12.1,
          11.8,
          8.2,
          9.4,
          8,
          9.5,
          6.9,
          13.6,
          10.2,
          6.7,
          8,
          9,
          6.8,
          7.9,
          10.5,
          8.9,
          9.6,
          8.1,
          9.5,
          10.7,
          9.6,
          8.8,
          7.9,
          10.5,
          8.4,
          11.4,
          11.2,
          7.5,
          7.1,
          9.6,
          7.7,
          12.5,
          7.4,
          7.6
         ]
        }
       ],
       "layout": {
        "geo": {
         "lakecolor": "rgb(255, 255, 255)",
         "projection": {
          "type": "albers usa"
         },
         "scope": "usa",
         "showlakes": true
        },
        "title": "Diabetes Rates, 2015"
       }
      },
      "text/html": [
       "<div id=\"a80bf6b7-3d89-4da1-83ad-869d696e977e\" style=\"height: 525px; width: 100%;\" class=\"plotly-graph-div\"></div><script type=\"text/javascript\">require([\"plotly\"], function(Plotly) { window.PLOTLYENV=window.PLOTLYENV || {};window.PLOTLYENV.BASE_URL=\"https://plot.ly\";Plotly.newPlot(\"a80bf6b7-3d89-4da1-83ad-869d696e977e\", [{\"type\": \"choropleth\", \"colorscale\": [[0.0, \"rgb(165,0,38)\"], [0.1111111111111111, \"rgb(215,48,39)\"], [0.2222222222222222, \"rgb(244,109,67)\"], [0.3333333333333333, \"rgb(253,174,97)\"], [0.4444444444444444, \"rgb(254,224,144)\"], [0.5555555555555556, \"rgb(224,243,248)\"], [0.6666666666666666, \"rgb(171,217,233)\"], [0.7777777777777778, \"rgb(116,173,209)\"], [0.8888888888888888, \"rgb(69,117,180)\"], [1.0, \"rgb(49,54,149)\"]], \"autocolorscale\": false, \"locations\": [\"AL\", \"AK\", \"AZ\", \"AR\", \"CA\", \"CO\", \"CT\", \"DE\", \"DC\", \"FL\", \"GA\", \"HI\", \"ID\", \"IL\", \"IN\", \"IA\", \"KS\", \"KY\", \"LA\", \"ME\", \"MD\", \"MA\", \"MI\", \"MN\", \"MS\", \"MO\", \"MT\", \"NE\", \"NV\", \"NH\", \"NJ\", \"NM\", \"NY\", \"NC\", \"ND\", \"OH\", \"OK\", \"OR\", \"PA\", \"RI\", \"SC\", \"SD\", \"TN\", \"TX\", \"UT\", \"VT\", \"VA\", \"WA\", \"WV\", \"WI\", \"WY\"], \"z\": [12.0, 7.8, 9.1, 11.2, 9.6, 6.4, 8.1, 9.9, 9.3, 9.3, 10.7, 7.8, 7.3, 9.1, 10.5, 7.7, 8.9, 12.1, 11.8, 8.2, 9.4, 8.0, 9.5, 6.9, 13.6, 10.2, 6.7, 8.0, 9.0, 6.8, 7.9, 10.5, 8.9, 9.6, 8.1, 9.5, 10.7, 9.6, 8.8, 7.9, 10.5, 8.4, 11.4, 11.2, 7.5, 7.1, 9.6, 7.7, 12.5, 7.4, 7.6], \"locationmode\": \"USA-states\", \"marker\": {\"line\": {\"color\": \"rgb(255,255,255)\", \"width\": 2}}, \"colorbar\": {\"title\": \"Rheumatoid Arthritis Rate\"}}], {\"title\": \"Diabetes Rates, 2015\", \"geo\": {\"scope\": \"usa\", \"projection\": {\"type\": \"albers usa\"}, \"showlakes\": true, \"lakecolor\": \"rgb(255, 255, 255)\"}}, {\"showLink\": true, \"linkText\": \"Export to plot.ly\"})});</script>"
      ],
      "text/vnd.plotly.v1+html": [
       "<div id=\"a80bf6b7-3d89-4da1-83ad-869d696e977e\" style=\"height: 525px; width: 100%;\" class=\"plotly-graph-div\"></div><script type=\"text/javascript\">require([\"plotly\"], function(Plotly) { window.PLOTLYENV=window.PLOTLYENV || {};window.PLOTLYENV.BASE_URL=\"https://plot.ly\";Plotly.newPlot(\"a80bf6b7-3d89-4da1-83ad-869d696e977e\", [{\"type\": \"choropleth\", \"colorscale\": [[0.0, \"rgb(165,0,38)\"], [0.1111111111111111, \"rgb(215,48,39)\"], [0.2222222222222222, \"rgb(244,109,67)\"], [0.3333333333333333, \"rgb(253,174,97)\"], [0.4444444444444444, \"rgb(254,224,144)\"], [0.5555555555555556, \"rgb(224,243,248)\"], [0.6666666666666666, \"rgb(171,217,233)\"], [0.7777777777777778, \"rgb(116,173,209)\"], [0.8888888888888888, \"rgb(69,117,180)\"], [1.0, \"rgb(49,54,149)\"]], \"autocolorscale\": false, \"locations\": [\"AL\", \"AK\", \"AZ\", \"AR\", \"CA\", \"CO\", \"CT\", \"DE\", \"DC\", \"FL\", \"GA\", \"HI\", \"ID\", \"IL\", \"IN\", \"IA\", \"KS\", \"KY\", \"LA\", \"ME\", \"MD\", \"MA\", \"MI\", \"MN\", \"MS\", \"MO\", \"MT\", \"NE\", \"NV\", \"NH\", \"NJ\", \"NM\", \"NY\", \"NC\", \"ND\", \"OH\", \"OK\", \"OR\", \"PA\", \"RI\", \"SC\", \"SD\", \"TN\", \"TX\", \"UT\", \"VT\", \"VA\", \"WA\", \"WV\", \"WI\", \"WY\"], \"z\": [12.0, 7.8, 9.1, 11.2, 9.6, 6.4, 8.1, 9.9, 9.3, 9.3, 10.7, 7.8, 7.3, 9.1, 10.5, 7.7, 8.9, 12.1, 11.8, 8.2, 9.4, 8.0, 9.5, 6.9, 13.6, 10.2, 6.7, 8.0, 9.0, 6.8, 7.9, 10.5, 8.9, 9.6, 8.1, 9.5, 10.7, 9.6, 8.8, 7.9, 10.5, 8.4, 11.4, 11.2, 7.5, 7.1, 9.6, 7.7, 12.5, 7.4, 7.6], \"locationmode\": \"USA-states\", \"marker\": {\"line\": {\"color\": \"rgb(255,255,255)\", \"width\": 2}}, \"colorbar\": {\"title\": \"Rheumatoid Arthritis Rate\"}}], {\"title\": \"Diabetes Rates, 2015\", \"geo\": {\"scope\": \"usa\", \"projection\": {\"type\": \"albers usa\"}, \"showlakes\": true, \"lakecolor\": \"rgb(255, 255, 255)\"}}, {\"showLink\": true, \"linkText\": \"Export to plot.ly\"})});</script>"
      ]
     },
     "metadata": {},
     "output_type": "display_data"
    }
   ],
   "source": [
    "data4 = [ dict(\n",
    "        type='choropleth',\n",
    "        colorscale = scl,\n",
    "        autocolorscale = False,\n",
    "        locations = df_doc['code'],\n",
    "        z = df_doc[\"Diabetes Mellitus (%)\"],\n",
    "        locationmode = 'USA-states',\n",
    "        marker = dict(\n",
    "            line = dict (\n",
    "                color = 'rgb(255,255,255)',\n",
    "                width = 2\n",
    "            ) ),\n",
    "        colorbar = dict(\n",
    "            title = \"Rheumatoid Arthritis Rate\")\n",
    "        ) ]\n",
    "\n",
    "layout2 = dict(\n",
    "        title = 'Diabetes Rates, 2015',\n",
    "        geo = dict(\n",
    "            scope='usa',\n",
    "            projection=dict( type='albers usa' ),\n",
    "            showlakes = True,\n",
    "            lakecolor = 'rgb(255, 255, 255)'),\n",
    "             )\n",
    "\n",
    "fig2 = dict( data=data4, layout=layout2 )\n",
    "iplot( fig2, filename='RA-cloropleth-map' )"
   ]
  },
  {
   "cell_type": "code",
   "execution_count": 198,
   "metadata": {},
   "outputs": [
    {
     "data": {
      "application/vnd.plotly.v1+json": {
       "data": [
        {
         "autocolorscale": false,
         "colorbar": {
          "title": "Population Density By State"
         },
         "colorscale": [
          [
           0,
           "rgb(165,0,38)"
          ],
          [
           0.1111111111111111,
           "rgb(215,48,39)"
          ],
          [
           0.2222222222222222,
           "rgb(244,109,67)"
          ],
          [
           0.3333333333333333,
           "rgb(253,174,97)"
          ],
          [
           0.4444444444444444,
           "rgb(254,224,144)"
          ],
          [
           0.5555555555555556,
           "rgb(224,243,248)"
          ],
          [
           0.6666666666666666,
           "rgb(171,217,233)"
          ],
          [
           0.7777777777777778,
           "rgb(116,173,209)"
          ],
          [
           0.8888888888888888,
           "rgb(69,117,180)"
          ],
          [
           1,
           "rgb(49,54,149)"
          ]
         ],
         "locationmode": "USA-states",
         "locations": [
          "AL",
          "AK",
          "AZ",
          "AR",
          "CA",
          "CO",
          "CT",
          "DE",
          "DC",
          "FL",
          "GA",
          "HI",
          "ID",
          "IL",
          "IN",
          "IA",
          "KS",
          "KY",
          "LA",
          "ME",
          "MD",
          "MA",
          "MI",
          "MN",
          "MS",
          "MO",
          "MT",
          "NE",
          "NV",
          "NH",
          "NJ",
          "NM",
          "NY",
          "NC",
          "ND",
          "OH",
          "OK",
          "OR",
          "PA",
          "RI",
          "SC",
          "SD",
          "TN",
          "TX",
          "UT",
          "VT",
          "VA",
          "WA",
          "WV",
          "WI",
          "WY"
         ],
         "marker": {
          "line": {
           "color": "rgb(255,255,255)",
           "width": 2
          }
         },
         "type": "choropleth",
         "z": [
          92.77553425624956,
          1.1149861664851475,
          60.80404209831889,
          54.67033230503652,
          239.77567635954583,
          53.22653144999115,
          645.1718346649445,
          382.5520749622296,
          9967.369037167105,
          313.4604616645655,
          173.50180857768135,
          130.67998448551555,
          20.14073408843835,
          221.04566202555358,
          182.12891153240497,
          55.70528644295531,
          35.33479520009879,
          109.80488915506412,
          89.38207606877145,
          37.63393965020659,
          484.96541573263755,
          645.3976970720241,
          102.65680565207488,
          63.494556847274595,
          61.710017678474756,
          87.40873763162058,
          7.090057508954554,
          24.65636712920508,
          26.589577706146102,
          142.77165007337558,
          1025.4384597217795,
          17.11497545445648,
          361.93375930116736,
          188.53486379200268,
          10.72093367989508,
          259.1014550174253,
          56.13196608185512,
          41.609328619839246,
          277.5900599161773,
          683.8195599686709,
          154.93576144524957,
          11.222801899691477,
          157.81972629718172,
          103.73404027737371,
          35.94027248115596,
          64.95118735155505,
          196.65275898756585,
          102.21892775318224,
          75.57156323307761,
          88.2294258094875,
          5.985921504715988
         ]
        }
       ],
       "layout": {
        "geo": {
         "lakecolor": "rgb(255, 255, 255)",
         "projection": {
          "type": "albers usa"
         },
         "scope": "usa",
         "showlakes": true
        },
        "title": "Population Density per State"
       }
      },
      "text/html": [
       "<div id=\"0150f27d-5059-4743-8c6a-f128817c1c27\" style=\"height: 525px; width: 100%;\" class=\"plotly-graph-div\"></div><script type=\"text/javascript\">require([\"plotly\"], function(Plotly) { window.PLOTLYENV=window.PLOTLYENV || {};window.PLOTLYENV.BASE_URL=\"https://plot.ly\";Plotly.newPlot(\"0150f27d-5059-4743-8c6a-f128817c1c27\", [{\"type\": \"choropleth\", \"colorscale\": [[0.0, \"rgb(165,0,38)\"], [0.1111111111111111, \"rgb(215,48,39)\"], [0.2222222222222222, \"rgb(244,109,67)\"], [0.3333333333333333, \"rgb(253,174,97)\"], [0.4444444444444444, \"rgb(254,224,144)\"], [0.5555555555555556, \"rgb(224,243,248)\"], [0.6666666666666666, \"rgb(171,217,233)\"], [0.7777777777777778, \"rgb(116,173,209)\"], [0.8888888888888888, \"rgb(69,117,180)\"], [1.0, \"rgb(49,54,149)\"]], \"autocolorscale\": false, \"locations\": [\"AL\", \"AK\", \"AZ\", \"AR\", \"CA\", \"CO\", \"CT\", \"DE\", \"DC\", \"FL\", \"GA\", \"HI\", \"ID\", \"IL\", \"IN\", \"IA\", \"KS\", \"KY\", \"LA\", \"ME\", \"MD\", \"MA\", \"MI\", \"MN\", \"MS\", \"MO\", \"MT\", \"NE\", \"NV\", \"NH\", \"NJ\", \"NM\", \"NY\", \"NC\", \"ND\", \"OH\", \"OK\", \"OR\", \"PA\", \"RI\", \"SC\", \"SD\", \"TN\", \"TX\", \"UT\", \"VT\", \"VA\", \"WA\", \"WV\", \"WI\", \"WY\"], \"z\": [92.77553425624956, 1.1149861664851475, 60.80404209831889, 54.67033230503652, 239.77567635954583, 53.22653144999115, 645.1718346649445, 382.5520749622296, 9967.369037167105, 313.4604616645655, 173.50180857768135, 130.67998448551555, 20.14073408843835, 221.04566202555358, 182.12891153240497, 55.70528644295531, 35.33479520009879, 109.80488915506412, 89.38207606877145, 37.63393965020659, 484.96541573263755, 645.3976970720241, 102.65680565207488, 63.494556847274595, 61.710017678474756, 87.40873763162058, 7.090057508954554, 24.65636712920508, 26.589577706146102, 142.77165007337558, 1025.4384597217795, 17.11497545445648, 361.93375930116736, 188.53486379200268, 10.72093367989508, 259.1014550174253, 56.13196608185512, 41.609328619839246, 277.5900599161773, 683.8195599686709, 154.93576144524957, 11.222801899691477, 157.81972629718172, 103.73404027737371, 35.94027248115596, 64.95118735155505, 196.65275898756585, 102.21892775318224, 75.57156323307761, 88.2294258094875, 5.985921504715988], \"locationmode\": \"USA-states\", \"marker\": {\"line\": {\"color\": \"rgb(255,255,255)\", \"width\": 2}}, \"colorbar\": {\"title\": \"Population Density By State\"}}], {\"title\": \"Population Density per State\", \"geo\": {\"scope\": \"usa\", \"projection\": {\"type\": \"albers usa\"}, \"showlakes\": true, \"lakecolor\": \"rgb(255, 255, 255)\"}}, {\"showLink\": true, \"linkText\": \"Export to plot.ly\"})});</script>"
      ],
      "text/vnd.plotly.v1+html": [
       "<div id=\"0150f27d-5059-4743-8c6a-f128817c1c27\" style=\"height: 525px; width: 100%;\" class=\"plotly-graph-div\"></div><script type=\"text/javascript\">require([\"plotly\"], function(Plotly) { window.PLOTLYENV=window.PLOTLYENV || {};window.PLOTLYENV.BASE_URL=\"https://plot.ly\";Plotly.newPlot(\"0150f27d-5059-4743-8c6a-f128817c1c27\", [{\"type\": \"choropleth\", \"colorscale\": [[0.0, \"rgb(165,0,38)\"], [0.1111111111111111, \"rgb(215,48,39)\"], [0.2222222222222222, \"rgb(244,109,67)\"], [0.3333333333333333, \"rgb(253,174,97)\"], [0.4444444444444444, \"rgb(254,224,144)\"], [0.5555555555555556, \"rgb(224,243,248)\"], [0.6666666666666666, \"rgb(171,217,233)\"], [0.7777777777777778, \"rgb(116,173,209)\"], [0.8888888888888888, \"rgb(69,117,180)\"], [1.0, \"rgb(49,54,149)\"]], \"autocolorscale\": false, \"locations\": [\"AL\", \"AK\", \"AZ\", \"AR\", \"CA\", \"CO\", \"CT\", \"DE\", \"DC\", \"FL\", \"GA\", \"HI\", \"ID\", \"IL\", \"IN\", \"IA\", \"KS\", \"KY\", \"LA\", \"ME\", \"MD\", \"MA\", \"MI\", \"MN\", \"MS\", \"MO\", \"MT\", \"NE\", \"NV\", \"NH\", \"NJ\", \"NM\", \"NY\", \"NC\", \"ND\", \"OH\", \"OK\", \"OR\", \"PA\", \"RI\", \"SC\", \"SD\", \"TN\", \"TX\", \"UT\", \"VT\", \"VA\", \"WA\", \"WV\", \"WI\", \"WY\"], \"z\": [92.77553425624956, 1.1149861664851475, 60.80404209831889, 54.67033230503652, 239.77567635954583, 53.22653144999115, 645.1718346649445, 382.5520749622296, 9967.369037167105, 313.4604616645655, 173.50180857768135, 130.67998448551555, 20.14073408843835, 221.04566202555358, 182.12891153240497, 55.70528644295531, 35.33479520009879, 109.80488915506412, 89.38207606877145, 37.63393965020659, 484.96541573263755, 645.3976970720241, 102.65680565207488, 63.494556847274595, 61.710017678474756, 87.40873763162058, 7.090057508954554, 24.65636712920508, 26.589577706146102, 142.77165007337558, 1025.4384597217795, 17.11497545445648, 361.93375930116736, 188.53486379200268, 10.72093367989508, 259.1014550174253, 56.13196608185512, 41.609328619839246, 277.5900599161773, 683.8195599686709, 154.93576144524957, 11.222801899691477, 157.81972629718172, 103.73404027737371, 35.94027248115596, 64.95118735155505, 196.65275898756585, 102.21892775318224, 75.57156323307761, 88.2294258094875, 5.985921504715988], \"locationmode\": \"USA-states\", \"marker\": {\"line\": {\"color\": \"rgb(255,255,255)\", \"width\": 2}}, \"colorbar\": {\"title\": \"Population Density By State\"}}], {\"title\": \"Population Density per State\", \"geo\": {\"scope\": \"usa\", \"projection\": {\"type\": \"albers usa\"}, \"showlakes\": true, \"lakecolor\": \"rgb(255, 255, 255)\"}}, {\"showLink\": true, \"linkText\": \"Export to plot.ly\"})});</script>"
      ]
     },
     "metadata": {},
     "output_type": "display_data"
    }
   ],
   "source": [
    "\n",
    "data5 = [ dict(\n",
    "        type='choropleth',\n",
    "        colorscale = scl,\n",
    "        autocolorscale = False,\n",
    "        locations = df_doc['code'],\n",
    "        z = df_doc[\"Population Density\"],\n",
    "        locationmode = 'USA-states',\n",
    "        marker = dict(\n",
    "            line = dict (\n",
    "                color = 'rgb(255,255,255)',\n",
    "                width = 2\n",
    "            ) ),\n",
    "        colorbar = dict(\n",
    "            title = \"Population Density By State\")\n",
    "        ) ]\n",
    "\n",
    "layout2 = dict(\n",
    "        title = 'Population Density per State',\n",
    "        geo = dict(\n",
    "            scope='usa',\n",
    "            projection=dict( type='albers usa' ),\n",
    "            showlakes = True,\n",
    "            lakecolor = 'rgb(255, 255, 255)'),\n",
    "             )\n",
    "\n",
    "fig2 = dict( data=data5, layout=layout2 )\n",
    "iplot( fig2, filename='PD-cloropleth-map' )\n",
    "\n",
    "# print(df_doc[\"Population Density\"])"
   ]
  },
  {
   "cell_type": "code",
   "execution_count": 199,
   "metadata": {},
   "outputs": [
    {
     "data": {
      "application/vnd.plotly.v1+json": {
       "data": [
        {
         "autocolorscale": false,
         "colorbar": {
          "title": "Adult Smoking Rate (%) By State"
         },
         "colorscale": [
          [
           0,
           "rgb(165,0,38)"
          ],
          [
           0.1111111111111111,
           "rgb(215,48,39)"
          ],
          [
           0.2222222222222222,
           "rgb(244,109,67)"
          ],
          [
           0.3333333333333333,
           "rgb(253,174,97)"
          ],
          [
           0.4444444444444444,
           "rgb(254,224,144)"
          ],
          [
           0.5555555555555556,
           "rgb(224,243,248)"
          ],
          [
           0.6666666666666666,
           "rgb(171,217,233)"
          ],
          [
           0.7777777777777778,
           "rgb(116,173,209)"
          ],
          [
           0.8888888888888888,
           "rgb(69,117,180)"
          ],
          [
           1,
           "rgb(49,54,149)"
          ]
         ],
         "locationmode": "USA-states",
         "locations": [
          "AL",
          "AK",
          "AZ",
          "AR",
          "CA",
          "CO",
          "CT",
          "DE",
          "DC",
          "FL",
          "GA",
          "HI",
          "ID",
          "IL",
          "IN",
          "IA",
          "KS",
          "KY",
          "LA",
          "ME",
          "MD",
          "MA",
          "MI",
          "MN",
          "MS",
          "MO",
          "MT",
          "NE",
          "NV",
          "NH",
          "NJ",
          "NM",
          "NY",
          "NC",
          "ND",
          "OH",
          "OK",
          "OR",
          "PA",
          "RI",
          "SC",
          "SD",
          "TN",
          "TX",
          "UT",
          "VT",
          "VA",
          "WA",
          "WV",
          "WI",
          "WY"
         ],
         "marker": {
          "line": {
           "color": "rgb(255,255,255)",
           "width": 2
          }
         },
         "type": "choropleth",
         "z": [
          21.5,
          19,
          14.7,
          23.6,
          11,
          15.6,
          13.3,
          17.7,
          14.7,
          15.5,
          17.9,
          13.1,
          14.5,
          15.8,
          21.1,
          16.7,
          17.2,
          24.5,
          22.8,
          19.8,
          13.7,
          13.6,
          20.4,
          15.2,
          22.7,
          22.1,
          18.5,
          17,
          16.5,
          18,
          14,
          16.6,
          14.2,
          17.9,
          19.8,
          22.5,
          19.6,
          16.2,
          18,
          14.4,
          20,
          18.1,
          22.1,
          14.3,
          8.8,
          17,
          15.3,
          13.9,
          24.8,
          17.1,
          18.9
         ]
        }
       ],
       "layout": {
        "geo": {
         "lakecolor": "rgb(255, 255, 255)",
         "projection": {
          "type": "albers usa"
         },
         "scope": "usa",
         "showlakes": true
        },
        "title": "Adult Smoking Rate (%) per State"
       }
      },
      "text/html": [
       "<div id=\"a6183ceb-00d7-499c-96ae-33acc47e4a96\" style=\"height: 525px; width: 100%;\" class=\"plotly-graph-div\"></div><script type=\"text/javascript\">require([\"plotly\"], function(Plotly) { window.PLOTLYENV=window.PLOTLYENV || {};window.PLOTLYENV.BASE_URL=\"https://plot.ly\";Plotly.newPlot(\"a6183ceb-00d7-499c-96ae-33acc47e4a96\", [{\"type\": \"choropleth\", \"colorscale\": [[0.0, \"rgb(165,0,38)\"], [0.1111111111111111, \"rgb(215,48,39)\"], [0.2222222222222222, \"rgb(244,109,67)\"], [0.3333333333333333, \"rgb(253,174,97)\"], [0.4444444444444444, \"rgb(254,224,144)\"], [0.5555555555555556, \"rgb(224,243,248)\"], [0.6666666666666666, \"rgb(171,217,233)\"], [0.7777777777777778, \"rgb(116,173,209)\"], [0.8888888888888888, \"rgb(69,117,180)\"], [1.0, \"rgb(49,54,149)\"]], \"autocolorscale\": false, \"locations\": [\"AL\", \"AK\", \"AZ\", \"AR\", \"CA\", \"CO\", \"CT\", \"DE\", \"DC\", \"FL\", \"GA\", \"HI\", \"ID\", \"IL\", \"IN\", \"IA\", \"KS\", \"KY\", \"LA\", \"ME\", \"MD\", \"MA\", \"MI\", \"MN\", \"MS\", \"MO\", \"MT\", \"NE\", \"NV\", \"NH\", \"NJ\", \"NM\", \"NY\", \"NC\", \"ND\", \"OH\", \"OK\", \"OR\", \"PA\", \"RI\", \"SC\", \"SD\", \"TN\", \"TX\", \"UT\", \"VT\", \"VA\", \"WA\", \"WV\", \"WI\", \"WY\"], \"z\": [21.5, 19.0, 14.7, 23.6, 11.0, 15.6, 13.3, 17.7, 14.7, 15.5, 17.9, 13.1, 14.5, 15.8, 21.1, 16.7, 17.2, 24.5, 22.8, 19.8, 13.7, 13.6, 20.4, 15.2, 22.7, 22.1, 18.5, 17.0, 16.5, 18.0, 14.0, 16.6, 14.2, 17.9, 19.8, 22.5, 19.6, 16.2, 18.0, 14.4, 20.0, 18.1, 22.1, 14.3, 8.8, 17.0, 15.3, 13.9, 24.8, 17.1, 18.9], \"locationmode\": \"USA-states\", \"marker\": {\"line\": {\"color\": \"rgb(255,255,255)\", \"width\": 2}}, \"colorbar\": {\"title\": \"Adult Smoking Rate (%) By State\"}}], {\"title\": \"Adult Smoking Rate (%) per State\", \"geo\": {\"scope\": \"usa\", \"projection\": {\"type\": \"albers usa\"}, \"showlakes\": true, \"lakecolor\": \"rgb(255, 255, 255)\"}}, {\"showLink\": true, \"linkText\": \"Export to plot.ly\"})});</script>"
      ],
      "text/vnd.plotly.v1+html": [
       "<div id=\"a6183ceb-00d7-499c-96ae-33acc47e4a96\" style=\"height: 525px; width: 100%;\" class=\"plotly-graph-div\"></div><script type=\"text/javascript\">require([\"plotly\"], function(Plotly) { window.PLOTLYENV=window.PLOTLYENV || {};window.PLOTLYENV.BASE_URL=\"https://plot.ly\";Plotly.newPlot(\"a6183ceb-00d7-499c-96ae-33acc47e4a96\", [{\"type\": \"choropleth\", \"colorscale\": [[0.0, \"rgb(165,0,38)\"], [0.1111111111111111, \"rgb(215,48,39)\"], [0.2222222222222222, \"rgb(244,109,67)\"], [0.3333333333333333, \"rgb(253,174,97)\"], [0.4444444444444444, \"rgb(254,224,144)\"], [0.5555555555555556, \"rgb(224,243,248)\"], [0.6666666666666666, \"rgb(171,217,233)\"], [0.7777777777777778, \"rgb(116,173,209)\"], [0.8888888888888888, \"rgb(69,117,180)\"], [1.0, \"rgb(49,54,149)\"]], \"autocolorscale\": false, \"locations\": [\"AL\", \"AK\", \"AZ\", \"AR\", \"CA\", \"CO\", \"CT\", \"DE\", \"DC\", \"FL\", \"GA\", \"HI\", \"ID\", \"IL\", \"IN\", \"IA\", \"KS\", \"KY\", \"LA\", \"ME\", \"MD\", \"MA\", \"MI\", \"MN\", \"MS\", \"MO\", \"MT\", \"NE\", \"NV\", \"NH\", \"NJ\", \"NM\", \"NY\", \"NC\", \"ND\", \"OH\", \"OK\", \"OR\", \"PA\", \"RI\", \"SC\", \"SD\", \"TN\", \"TX\", \"UT\", \"VT\", \"VA\", \"WA\", \"WV\", \"WI\", \"WY\"], \"z\": [21.5, 19.0, 14.7, 23.6, 11.0, 15.6, 13.3, 17.7, 14.7, 15.5, 17.9, 13.1, 14.5, 15.8, 21.1, 16.7, 17.2, 24.5, 22.8, 19.8, 13.7, 13.6, 20.4, 15.2, 22.7, 22.1, 18.5, 17.0, 16.5, 18.0, 14.0, 16.6, 14.2, 17.9, 19.8, 22.5, 19.6, 16.2, 18.0, 14.4, 20.0, 18.1, 22.1, 14.3, 8.8, 17.0, 15.3, 13.9, 24.8, 17.1, 18.9], \"locationmode\": \"USA-states\", \"marker\": {\"line\": {\"color\": \"rgb(255,255,255)\", \"width\": 2}}, \"colorbar\": {\"title\": \"Adult Smoking Rate (%) By State\"}}], {\"title\": \"Adult Smoking Rate (%) per State\", \"geo\": {\"scope\": \"usa\", \"projection\": {\"type\": \"albers usa\"}, \"showlakes\": true, \"lakecolor\": \"rgb(255, 255, 255)\"}}, {\"showLink\": true, \"linkText\": \"Export to plot.ly\"})});</script>"
      ]
     },
     "metadata": {},
     "output_type": "display_data"
    }
   ],
   "source": [
    "data6 = [ dict(\n",
    "        type='choropleth',\n",
    "        colorscale = scl,\n",
    "        autocolorscale = False,\n",
    "        locations = df_doc['code'],\n",
    "        z = df_doc[\"Adult Smoking Rate (%)\"],\n",
    "        locationmode = 'USA-states',\n",
    "        marker = dict(\n",
    "            line = dict (\n",
    "                color = 'rgb(255,255,255)',\n",
    "                width = 2\n",
    "            ) ),\n",
    "        colorbar = dict(\n",
    "            title = \"Adult Smoking Rate (%) By State\")\n",
    "        ) ]\n",
    "\n",
    "layout2 = dict(\n",
    "        title = 'Adult Smoking Rate (%) per State',\n",
    "        geo = dict(\n",
    "            scope='usa',\n",
    "            projection=dict( type='albers usa' ),\n",
    "            showlakes = True,\n",
    "            lakecolor = 'rgb(255, 255, 255)'),\n",
    "             )\n",
    "\n",
    "fig2 = dict( data=data6, layout=layout2 )\n",
    "iplot( fig2, filename='smoking-cloropleth-map' )"
   ]
  }
 ],
 "metadata": {
  "kernelspec": {
   "display_name": "Python 3",
   "language": "python",
   "name": "python3"
  },
  "language_info": {
   "codemirror_mode": {
    "name": "ipython",
    "version": 3
   },
   "file_extension": ".py",
   "mimetype": "text/x-python",
   "name": "python",
   "nbconvert_exporter": "python",
   "pygments_lexer": "ipython3",
   "version": "3.6.4"
  }
 },
 "nbformat": 4,
 "nbformat_minor": 2
}
