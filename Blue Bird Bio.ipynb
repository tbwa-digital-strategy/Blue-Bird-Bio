{
 "cells": [
  {
   "cell_type": "code",
   "execution_count": 1,
   "metadata": {},
   "outputs": [],
   "source": [
    "import pandas as pd\n",
    "from pandas import ExcelWriter\n",
    "import numpy as np\n",
    "import re\n",
    "import collections"
   ]
  },
  {
   "cell_type": "code",
   "execution_count": 13,
   "metadata": {},
   "outputs": [
    {
     "name": "stdout",
     "output_type": "stream",
     "text": [
      "OrderedDict([('AK', 0), ('AL', 169), ('AR', 11), ('AZ', 341), ('CA', 1887), ('CO', 367), ('CT', 87), ('DC', 63), ('DE', 39), ('FL', 922), ('GA', 500), ('HI', 2), ('IA', 100), ('ID', 0), ('IL', 655), ('IN', 197), ('KS', 249), ('KY', 108), ('LA', 64), ('MA', 979), ('MD', 689), ('ME', 0), ('MI', 604), ('MN', 544), ('MO', 559), ('MS', 53), ('MT', 0), ('NC', 586), ('ND', 0), ('NE', 118), ('NH', 38), ('NJ', 363), ('NM', 0), ('NV', 0), ('NY', 1293), ('OH', 848), ('OK', 82), ('OR', 226), ('PA', 776), ('RI', 22), ('SC', 102), ('SD', 16), ('TN', 488), ('TX', 1615), ('UT', 220), ('VA', 191), ('VT', 0), ('WA', 569), ('WI', 380), ('WV', 64), ('WY', 0)])\n",
      "Index(['State', 'Endos', 'Opthamologists', 'Rheumatolosits ',\n",
      "       'Allergy & Immunology', 'Neurologists', 'Gastroenterologists ',\n",
      "       'Infectious Disease', 'Population', 'Density Endos (per capita)',\n",
      "       'Density Opthamologists (per capita)', 'code',\n",
      "       'Rheumatoid Arthritis (%)', 'Diabetes Mellitus (%)', 'Square Mileage',\n",
      "       'Adult Smoking Rate (%)', 'Hematology Oncologists',\n",
      "       'Thalassemia Patients', 'Density Thalassemia (per capita)',\n",
      "       'Density Hematology Oncologists (per capita)', 'Population Density',\n",
      "       'Bone Marrow Medical Centers by State',\n",
      "       'Density Hematology Oncologists (per Thalassemia capita)',\n",
      "       'Bone Marrow Medical Centers by Thalassemia Patients'],\n",
      "      dtype='object')\n"
     ]
    }
   ],
   "source": [
    "df_doc = pd.read_excel(\"https://github.com/tbwa-digital-strategy/Blue-Bird-Bio/blob/master/HCPStateLevelData.xlsx?raw=true\")\n",
    "df_med_cent = pd.read_excel(\"https://github.com/tbwa-digital-strategy/Blue-Bird-Bio/blob/master/medical%20centers.xlsx?raw=true\")\n",
    "df_pop = pd.read_csv(\"https://raw.githubusercontent.com/tbwa-digital-strategy/Blue-Bird-Bio/master/scprc-est2016-18%2Bpop-res.csv\")\n",
    "\n",
    "# print(list(df_med_cent['data'].values))\n",
    "# use only one of the following lines, whichever you prefer\n",
    "# for i in list(df_med_cent['data'].values):\n",
    "#     print(re.findall(\"[(][\\d]{3}[)][ ]?[\\d]{3}-[\\d]{4}\", str(i)))\n",
    "filtered = [i for i in list(df_med_cent['data'].values) if len(re.findall(\".*?(\\(?\\d{3}\\D{0,3}\\d{3}\\D{0,3}\\d{4}).*?\", str(i))) == 0]\n",
    "\n",
    "revised_filtered_lst = []\n",
    "\n",
    "def chunks(l, n):\n",
    "    \"\"\"Yield successive n-sized chunks from l.\"\"\"\n",
    "    for i in range(0, len(l), n):\n",
    "        yield l[i:i + n]\n",
    "\n",
    "for i, row in enumerate(filtered):\n",
    "    if i % 4 == 2:\n",
    "        revised_filtered_lst.append(str(row)[-2:])\n",
    "    else:\n",
    "        revised_filtered_lst.append(row)\n",
    "\n",
    "\n",
    "        \n",
    "bonemarrow_nums_by_state = {}        \n",
    "for bucket in chunks(revised_filtered_lst, 4):\n",
    "#     print(bucket)\n",
    "    if bucket[2] in bonemarrow_nums_by_state:\n",
    "        bonemarrow_nums_by_state[bucket[2]] += bucket[3]\n",
    "    else:\n",
    "        bonemarrow_nums_by_state[bucket[2]] = bucket[3]\n",
    "    \n",
    "\n",
    "\n",
    "\n",
    "for i, row_doc in df_doc.iterrows():\n",
    "    for j, row_pop in df_pop.iterrows():\n",
    "        if row_pop[\"NAME\"].lower() in row_doc[\"State\"].lower():\n",
    "            df_doc.at[i, \"Population\"] = row_pop[\"POPESTIMATE2016\"]\n",
    "            \n",
    "df_doc[\"Density Endos (per capita)\"] = df_doc[\"Endos\"]/df_doc[\"Population\"]\n",
    "df_doc[\"Density Opthamologists (per capita)\"] = df_doc[\"Opthamologists\"]/df_doc[\"Population\"]\n",
    "df_doc[\"Density Thalassemia (per capita)\"] = df_doc[\"Thalassemia Patients\"]/df_doc[\"Population\"]\n",
    "df_doc[\"Density Hematology Oncologists (per Thalassemia capita)\"] = df_doc[\"Hematology Oncologists\"]/df_doc[\"Thalassemia Patients\"]\n",
    "df_doc[\"Population Density\"] = df_doc[\"Population\"]/df_doc[\"Square Mileage\"]\n",
    "\n",
    "df_doc[\"code\"] = df_doc[\"State\"].apply(lambda x: x.split(\",\")[1])\n",
    "\n",
    "for code in df_doc[\"code\"]:\n",
    "    if code not in bonemarrow_nums_by_state:\n",
    "        bonemarrow_nums_by_state[code] = 0\n",
    "\n",
    "df_doc.replace([np.inf, -np.inf], 0)\n",
    "od = collections.OrderedDict(sorted(bonemarrow_nums_by_state.items()))\n",
    "df_doc['Bone Marrow Medical Centers by State'] = list(od.values())\n",
    "df_doc['Bone Marrow Medical Centers by Thalassemia Patients'] = df_doc['Bone Marrow Medical Centers by State']/df_doc[\"Thalassemia Patients\"]\n",
    "print(od)\n",
    "print(df_doc[\"Density Hematology Oncologists (per Thalassemia capita)\"])\n",
    "print(df_doc.columns)"
   ]
  },
  {
   "cell_type": "code",
   "execution_count": 14,
   "metadata": {},
   "outputs": [
    {
     "data": {
      "text/html": [
       "<script>requirejs.config({paths: { 'plotly': ['https://cdn.plot.ly/plotly-latest.min']},});if(!window.Plotly) {{require(['plotly'],function(plotly) {window.Plotly=plotly;});}}</script>"
      ],
      "text/vnd.plotly.v1+html": [
       "<script>requirejs.config({paths: { 'plotly': ['https://cdn.plot.ly/plotly-latest.min']},});if(!window.Plotly) {{require(['plotly'],function(plotly) {window.Plotly=plotly;});}}</script>"
      ]
     },
     "metadata": {},
     "output_type": "display_data"
    }
   ],
   "source": [
    "from plotly.offline import init_notebook_mode, iplot\n",
    "init_notebook_mode(connected=True)\n",
    "\n",
    "scl=[[0.0, 'rgb(165,0,38)'], [0.1111111111111111, 'rgb(215,48,39)'], [0.2222222222222222, 'rgb(244,109,67)'], [0.3333333333333333, 'rgb(253,174,97)'], [0.4444444444444444, 'rgb(254,224,144)'], [0.5555555555555556, 'rgb(224,243,248)'], [0.6666666666666666, 'rgb(171,217,233)'], [0.7777777777777778, 'rgb(116,173,209)'], [0.8888888888888888, 'rgb(69,117,180)'], [1.0, 'rgb(49,54,149)']]"
   ]
  },
  {
   "cell_type": "code",
   "execution_count": 15,
   "metadata": {},
   "outputs": [
    {
     "data": {
      "application/vnd.plotly.v1+json": {
       "data": [
        {
         "autocolorscale": false,
         "colorbar": {
          "title": "Thalassemia Patients By State"
         },
         "colorscale": [
          [
           0,
           "rgb(165,0,38)"
          ],
          [
           0.1111111111111111,
           "rgb(215,48,39)"
          ],
          [
           0.2222222222222222,
           "rgb(244,109,67)"
          ],
          [
           0.3333333333333333,
           "rgb(253,174,97)"
          ],
          [
           0.4444444444444444,
           "rgb(254,224,144)"
          ],
          [
           0.5555555555555556,
           "rgb(224,243,248)"
          ],
          [
           0.6666666666666666,
           "rgb(171,217,233)"
          ],
          [
           0.7777777777777778,
           "rgb(116,173,209)"
          ],
          [
           0.8888888888888888,
           "rgb(69,117,180)"
          ],
          [
           1,
           "rgb(49,54,149)"
          ]
         ],
         "locationmode": "USA-states",
         "locations": [
          "AL",
          "AK",
          "AZ",
          "AR",
          "CA",
          "CO",
          "CT",
          "DE",
          "DC",
          "FL",
          "GA",
          "HI",
          "ID",
          "IL",
          "IN",
          "IA",
          "KS",
          "KY",
          "LA",
          "ME",
          "MD",
          "MA",
          "MI",
          "MN",
          "MS",
          "MO",
          "MT",
          "NE",
          "NV",
          "NH",
          "NJ",
          "NM",
          "NY",
          "NC",
          "ND",
          "OH",
          "OK",
          "OR",
          "PA",
          "RI",
          "SC",
          "SD",
          "TN",
          "TX",
          "UT",
          "VT",
          "VA",
          "WA",
          "WV",
          "WI",
          "WY"
         ],
         "marker": {
          "line": {
           "color": "rgb(255,255,255)",
           "width": 2
          }
         },
         "type": "choropleth",
         "z": [
          3.495568852425308e-06,
          4.043704356687074e-06,
          3.895501863997642e-06,
          3.4396305286471346e-07,
          4.254775227231112e-06,
          9.024382980374674e-07,
          2.0970503728275957e-05,
          5.2517422654965785e-06,
          1.4680623045642057e-06,
          2.5227485209295223e-06,
          3.976578534370877e-06,
          4.900049490499854e-06,
          5.941276423826895e-07,
          5.468092547310132e-06,
          1.0553209811530225e-06,
          0,
          1.3758522114588538e-06,
          8.564395464115859e-06,
          1.4951942321387302e-06,
          0,
          3.656643198219813e-06,
          1.1010339589701897e-05,
          2.5180544504094356e-06,
          2.898575929645765e-06,
          1.0037721758367946e-06,
          2.6259642212374856e-06,
          6.714499482024325e-06,
          2.6217597671038364e-06,
          1.3605173775483342e-06,
          5.993429702688428e-06,
          9.05587575964543e-06,
          9.610694781152467e-07,
          8.609648610359666e-06,
          1.18264026014932e-06,
          0,
          1.6359040647308296e-06,
          1.7840935823350267e-06,
          1.2214590817314915e-06,
          4.849726150826327e-06,
          3.7863513393271276e-06,
          1.0078371431928966e-06,
          0,
          2.2552341729920974e-06,
          2.0098629718494284e-06,
          2.949642716332532e-06,
          6.404160142428522e-06,
          4.517459266783074e-06,
          1.5093304061470912e-06,
          0,
          1.0382943730674745e-06,
          0
         ]
        }
       ],
       "layout": {
        "geo": {
         "lakecolor": "rgb(255, 255, 255)",
         "projection": {
          "type": "albers usa"
         },
         "scope": "usa",
         "showlakes": true
        },
        "title": "Thalassemia Patients per State"
       }
      },
      "text/html": [
       "<div id=\"a09a57d3-d4bb-4c71-bdb3-2165ca347ca7\" style=\"height: 525px; width: 100%;\" class=\"plotly-graph-div\"></div><script type=\"text/javascript\">require([\"plotly\"], function(Plotly) { window.PLOTLYENV=window.PLOTLYENV || {};window.PLOTLYENV.BASE_URL=\"https://plot.ly\";Plotly.newPlot(\"a09a57d3-d4bb-4c71-bdb3-2165ca347ca7\", [{\"type\": \"choropleth\", \"colorscale\": [[0.0, \"rgb(165,0,38)\"], [0.1111111111111111, \"rgb(215,48,39)\"], [0.2222222222222222, \"rgb(244,109,67)\"], [0.3333333333333333, \"rgb(253,174,97)\"], [0.4444444444444444, \"rgb(254,224,144)\"], [0.5555555555555556, \"rgb(224,243,248)\"], [0.6666666666666666, \"rgb(171,217,233)\"], [0.7777777777777778, \"rgb(116,173,209)\"], [0.8888888888888888, \"rgb(69,117,180)\"], [1.0, \"rgb(49,54,149)\"]], \"autocolorscale\": false, \"locations\": [\"AL\", \"AK\", \"AZ\", \"AR\", \"CA\", \"CO\", \"CT\", \"DE\", \"DC\", \"FL\", \"GA\", \"HI\", \"ID\", \"IL\", \"IN\", \"IA\", \"KS\", \"KY\", \"LA\", \"ME\", \"MD\", \"MA\", \"MI\", \"MN\", \"MS\", \"MO\", \"MT\", \"NE\", \"NV\", \"NH\", \"NJ\", \"NM\", \"NY\", \"NC\", \"ND\", \"OH\", \"OK\", \"OR\", \"PA\", \"RI\", \"SC\", \"SD\", \"TN\", \"TX\", \"UT\", \"VT\", \"VA\", \"WA\", \"WV\", \"WI\", \"WY\"], \"z\": [3.495568852425308e-06, 4.043704356687074e-06, 3.895501863997642e-06, 3.4396305286471346e-07, 4.254775227231112e-06, 9.024382980374674e-07, 2.0970503728275957e-05, 5.2517422654965785e-06, 1.4680623045642057e-06, 2.5227485209295223e-06, 3.976578534370877e-06, 4.900049490499854e-06, 5.941276423826895e-07, 5.468092547310132e-06, 1.0553209811530225e-06, 0.0, 1.3758522114588538e-06, 8.564395464115859e-06, 1.4951942321387302e-06, 0.0, 3.656643198219813e-06, 1.1010339589701897e-05, 2.5180544504094356e-06, 2.898575929645765e-06, 1.0037721758367946e-06, 2.6259642212374856e-06, 6.714499482024325e-06, 2.6217597671038364e-06, 1.3605173775483342e-06, 5.993429702688428e-06, 9.05587575964543e-06, 9.610694781152467e-07, 8.609648610359666e-06, 1.18264026014932e-06, 0.0, 1.6359040647308296e-06, 1.7840935823350267e-06, 1.2214590817314915e-06, 4.849726150826327e-06, 3.7863513393271276e-06, 1.0078371431928966e-06, 0.0, 2.2552341729920974e-06, 2.0098629718494284e-06, 2.949642716332532e-06, 6.404160142428522e-06, 4.517459266783074e-06, 1.5093304061470912e-06, 0.0, 1.0382943730674745e-06, 0.0], \"locationmode\": \"USA-states\", \"marker\": {\"line\": {\"color\": \"rgb(255,255,255)\", \"width\": 2}}, \"colorbar\": {\"title\": \"Thalassemia Patients By State\"}}], {\"title\": \"Thalassemia Patients per State\", \"geo\": {\"scope\": \"usa\", \"projection\": {\"type\": \"albers usa\"}, \"showlakes\": true, \"lakecolor\": \"rgb(255, 255, 255)\"}}, {\"showLink\": true, \"linkText\": \"Export to plot.ly\"})});</script>"
      ],
      "text/vnd.plotly.v1+html": [
       "<div id=\"a09a57d3-d4bb-4c71-bdb3-2165ca347ca7\" style=\"height: 525px; width: 100%;\" class=\"plotly-graph-div\"></div><script type=\"text/javascript\">require([\"plotly\"], function(Plotly) { window.PLOTLYENV=window.PLOTLYENV || {};window.PLOTLYENV.BASE_URL=\"https://plot.ly\";Plotly.newPlot(\"a09a57d3-d4bb-4c71-bdb3-2165ca347ca7\", [{\"type\": \"choropleth\", \"colorscale\": [[0.0, \"rgb(165,0,38)\"], [0.1111111111111111, \"rgb(215,48,39)\"], [0.2222222222222222, \"rgb(244,109,67)\"], [0.3333333333333333, \"rgb(253,174,97)\"], [0.4444444444444444, \"rgb(254,224,144)\"], [0.5555555555555556, \"rgb(224,243,248)\"], [0.6666666666666666, \"rgb(171,217,233)\"], [0.7777777777777778, \"rgb(116,173,209)\"], [0.8888888888888888, \"rgb(69,117,180)\"], [1.0, \"rgb(49,54,149)\"]], \"autocolorscale\": false, \"locations\": [\"AL\", \"AK\", \"AZ\", \"AR\", \"CA\", \"CO\", \"CT\", \"DE\", \"DC\", \"FL\", \"GA\", \"HI\", \"ID\", \"IL\", \"IN\", \"IA\", \"KS\", \"KY\", \"LA\", \"ME\", \"MD\", \"MA\", \"MI\", \"MN\", \"MS\", \"MO\", \"MT\", \"NE\", \"NV\", \"NH\", \"NJ\", \"NM\", \"NY\", \"NC\", \"ND\", \"OH\", \"OK\", \"OR\", \"PA\", \"RI\", \"SC\", \"SD\", \"TN\", \"TX\", \"UT\", \"VT\", \"VA\", \"WA\", \"WV\", \"WI\", \"WY\"], \"z\": [3.495568852425308e-06, 4.043704356687074e-06, 3.895501863997642e-06, 3.4396305286471346e-07, 4.254775227231112e-06, 9.024382980374674e-07, 2.0970503728275957e-05, 5.2517422654965785e-06, 1.4680623045642057e-06, 2.5227485209295223e-06, 3.976578534370877e-06, 4.900049490499854e-06, 5.941276423826895e-07, 5.468092547310132e-06, 1.0553209811530225e-06, 0.0, 1.3758522114588538e-06, 8.564395464115859e-06, 1.4951942321387302e-06, 0.0, 3.656643198219813e-06, 1.1010339589701897e-05, 2.5180544504094356e-06, 2.898575929645765e-06, 1.0037721758367946e-06, 2.6259642212374856e-06, 6.714499482024325e-06, 2.6217597671038364e-06, 1.3605173775483342e-06, 5.993429702688428e-06, 9.05587575964543e-06, 9.610694781152467e-07, 8.609648610359666e-06, 1.18264026014932e-06, 0.0, 1.6359040647308296e-06, 1.7840935823350267e-06, 1.2214590817314915e-06, 4.849726150826327e-06, 3.7863513393271276e-06, 1.0078371431928966e-06, 0.0, 2.2552341729920974e-06, 2.0098629718494284e-06, 2.949642716332532e-06, 6.404160142428522e-06, 4.517459266783074e-06, 1.5093304061470912e-06, 0.0, 1.0382943730674745e-06, 0.0], \"locationmode\": \"USA-states\", \"marker\": {\"line\": {\"color\": \"rgb(255,255,255)\", \"width\": 2}}, \"colorbar\": {\"title\": \"Thalassemia Patients By State\"}}], {\"title\": \"Thalassemia Patients per State\", \"geo\": {\"scope\": \"usa\", \"projection\": {\"type\": \"albers usa\"}, \"showlakes\": true, \"lakecolor\": \"rgb(255, 255, 255)\"}}, {\"showLink\": true, \"linkText\": \"Export to plot.ly\"})});</script>"
      ]
     },
     "metadata": {},
     "output_type": "display_data"
    }
   ],
   "source": [
    "data8 = [ dict(\n",
    "        type='choropleth',\n",
    "        colorscale = scl,\n",
    "        autocolorscale = False,\n",
    "        locations = df_doc['code'],\n",
    "        z = df_doc[\"Density Thalassemia (per capita)\"],\n",
    "        locationmode = 'USA-states',\n",
    "        marker = dict(\n",
    "            line = dict (\n",
    "                color = 'rgb(255,255,255)',\n",
    "                width = 2\n",
    "            ) ),\n",
    "        colorbar = dict(\n",
    "            title = \"Thalassemia Patients By State\")\n",
    "        ) ]\n",
    "\n",
    "layout2 = dict(\n",
    "        title = 'Thalassemia Patients per State',\n",
    "        geo = dict(\n",
    "            scope='usa',\n",
    "            projection=dict( type='albers usa' ),\n",
    "            showlakes = True,\n",
    "            lakecolor = 'rgb(255, 255, 255)'),\n",
    "             )\n",
    "\n",
    "fig2 = dict( data=data8, layout=layout2 )\n",
    "iplot( fig2, filename='thalassemia-cloropleth-map' )"
   ]
  },
  {
   "cell_type": "code",
   "execution_count": 18,
   "metadata": {},
   "outputs": [
    {
     "data": {
      "application/vnd.plotly.v1+json": {
       "data": [
        {
         "autocolorscale": false,
         "colorbar": {
          "title": "Density Hematology Oncologists (per Thalassemia capita)"
         },
         "colorscale": [
          [
           0,
           "rgb(165,0,38)"
          ],
          [
           0.1111111111111111,
           "rgb(215,48,39)"
          ],
          [
           0.2222222222222222,
           "rgb(244,109,67)"
          ],
          [
           0.3333333333333333,
           "rgb(253,174,97)"
          ],
          [
           0.4444444444444444,
           "rgb(254,224,144)"
          ],
          [
           0.5555555555555556,
           "rgb(224,243,248)"
          ],
          [
           0.6666666666666666,
           "rgb(171,217,233)"
          ],
          [
           0.7777777777777778,
           "rgb(116,173,209)"
          ],
          [
           0.8888888888888888,
           "rgb(69,117,180)"
          ],
          [
           1,
           "rgb(49,54,149)"
          ]
         ],
         "locationmode": "USA-states",
         "locations": [
          "AL",
          "AK",
          "AZ",
          "AR",
          "CA",
          "CO",
          "CT",
          "DE",
          "DC",
          "FL",
          "GA",
          "HI",
          "ID",
          "IL",
          "IN",
          "IA",
          "KS",
          "KY",
          "LA",
          "ME",
          "MD",
          "MA",
          "MI",
          "MN",
          "MS",
          "MO",
          "MT",
          "NE",
          "NV",
          "NH",
          "NJ",
          "NM",
          "NY",
          "NC",
          "ND",
          "OH",
          "OK",
          "OR",
          "PA",
          "RI",
          "SC",
          "SD",
          "TN",
          "TX",
          "UT",
          "VT",
          "VA",
          "WA",
          "WV",
          "WI",
          "WY"
         ],
         "marker": {
          "line": {
           "color": "rgb(255,255,255)",
           "width": 2
          }
         },
         "type": "choropleth",
         "z": [
          8.823529411764707,
          5.666666666666667,
          9.148148148148149,
          86,
          9.778443113772456,
          41.8,
          3.08,
          7.4,
          122,
          17.076923076923077,
          8.195121951219512,
          6.571428571428571,
          34,
          8.7,
          36.857142857142854,
          null,
          25.5,
          4.184210526315789,
          25.857142857142858,
          null,
          23.272727272727273,
          9.88,
          16.84,
          19.6875,
          25,
          16.1875,
          5.571428571428571,
          13.4,
          19.25,
          9,
          6.0246913580246915,
          37.5,
          8.629411764705882,
          39.416666666666664,
          null,
          28.68421052631579,
          16.857142857142858,
          35.8,
          12.64516129032258,
          18.25,
          31,
          null,
          18.6,
          19.035714285714285,
          8.11111111111111,
          10,
          8.263157894736842,
          32.63636363636363,
          null,
          41,
          null
         ]
        }
       ],
       "layout": {
        "geo": {
         "lakecolor": "rgb(255, 255, 255)",
         "projection": {
          "type": "albers usa"
         },
         "scope": "usa",
         "showlakes": true
        },
        "title": "Density Hematology Oncologists (per Thalassemia capita)"
       }
      },
      "text/html": [
       "<div id=\"a02d4e93-ebc0-49e9-8da8-aa3d464f69f0\" style=\"height: 525px; width: 100%;\" class=\"plotly-graph-div\"></div><script type=\"text/javascript\">require([\"plotly\"], function(Plotly) { window.PLOTLYENV=window.PLOTLYENV || {};window.PLOTLYENV.BASE_URL=\"https://plot.ly\";Plotly.newPlot(\"a02d4e93-ebc0-49e9-8da8-aa3d464f69f0\", [{\"type\": \"choropleth\", \"colorscale\": [[0.0, \"rgb(165,0,38)\"], [0.1111111111111111, \"rgb(215,48,39)\"], [0.2222222222222222, \"rgb(244,109,67)\"], [0.3333333333333333, \"rgb(253,174,97)\"], [0.4444444444444444, \"rgb(254,224,144)\"], [0.5555555555555556, \"rgb(224,243,248)\"], [0.6666666666666666, \"rgb(171,217,233)\"], [0.7777777777777778, \"rgb(116,173,209)\"], [0.8888888888888888, \"rgb(69,117,180)\"], [1.0, \"rgb(49,54,149)\"]], \"autocolorscale\": false, \"locations\": [\"AL\", \"AK\", \"AZ\", \"AR\", \"CA\", \"CO\", \"CT\", \"DE\", \"DC\", \"FL\", \"GA\", \"HI\", \"ID\", \"IL\", \"IN\", \"IA\", \"KS\", \"KY\", \"LA\", \"ME\", \"MD\", \"MA\", \"MI\", \"MN\", \"MS\", \"MO\", \"MT\", \"NE\", \"NV\", \"NH\", \"NJ\", \"NM\", \"NY\", \"NC\", \"ND\", \"OH\", \"OK\", \"OR\", \"PA\", \"RI\", \"SC\", \"SD\", \"TN\", \"TX\", \"UT\", \"VT\", \"VA\", \"WA\", \"WV\", \"WI\", \"WY\"], \"z\": [8.823529411764707, 5.666666666666667, 9.148148148148149, 86.0, 9.778443113772456, 41.8, 3.08, 7.4, 122.0, 17.076923076923077, 8.195121951219512, 6.571428571428571, 34.0, 8.7, 36.857142857142854, null, 25.5, 4.184210526315789, 25.857142857142858, null, 23.272727272727273, 9.88, 16.84, 19.6875, 25.0, 16.1875, 5.571428571428571, 13.4, 19.25, 9.0, 6.0246913580246915, 37.5, 8.629411764705882, 39.416666666666664, null, 28.68421052631579, 16.857142857142858, 35.8, 12.64516129032258, 18.25, 31.0, null, 18.6, 19.035714285714285, 8.11111111111111, 10.0, 8.263157894736842, 32.63636363636363, null, 41.0, null], \"locationmode\": \"USA-states\", \"marker\": {\"line\": {\"color\": \"rgb(255,255,255)\", \"width\": 2}}, \"colorbar\": {\"title\": \"Density Hematology Oncologists (per Thalassemia capita)\"}}], {\"title\": \"Density Hematology Oncologists (per Thalassemia capita)\", \"geo\": {\"scope\": \"usa\", \"projection\": {\"type\": \"albers usa\"}, \"showlakes\": true, \"lakecolor\": \"rgb(255, 255, 255)\"}}, {\"showLink\": true, \"linkText\": \"Export to plot.ly\"})});</script>"
      ],
      "text/vnd.plotly.v1+html": [
       "<div id=\"a02d4e93-ebc0-49e9-8da8-aa3d464f69f0\" style=\"height: 525px; width: 100%;\" class=\"plotly-graph-div\"></div><script type=\"text/javascript\">require([\"plotly\"], function(Plotly) { window.PLOTLYENV=window.PLOTLYENV || {};window.PLOTLYENV.BASE_URL=\"https://plot.ly\";Plotly.newPlot(\"a02d4e93-ebc0-49e9-8da8-aa3d464f69f0\", [{\"type\": \"choropleth\", \"colorscale\": [[0.0, \"rgb(165,0,38)\"], [0.1111111111111111, \"rgb(215,48,39)\"], [0.2222222222222222, \"rgb(244,109,67)\"], [0.3333333333333333, \"rgb(253,174,97)\"], [0.4444444444444444, \"rgb(254,224,144)\"], [0.5555555555555556, \"rgb(224,243,248)\"], [0.6666666666666666, \"rgb(171,217,233)\"], [0.7777777777777778, \"rgb(116,173,209)\"], [0.8888888888888888, \"rgb(69,117,180)\"], [1.0, \"rgb(49,54,149)\"]], \"autocolorscale\": false, \"locations\": [\"AL\", \"AK\", \"AZ\", \"AR\", \"CA\", \"CO\", \"CT\", \"DE\", \"DC\", \"FL\", \"GA\", \"HI\", \"ID\", \"IL\", \"IN\", \"IA\", \"KS\", \"KY\", \"LA\", \"ME\", \"MD\", \"MA\", \"MI\", \"MN\", \"MS\", \"MO\", \"MT\", \"NE\", \"NV\", \"NH\", \"NJ\", \"NM\", \"NY\", \"NC\", \"ND\", \"OH\", \"OK\", \"OR\", \"PA\", \"RI\", \"SC\", \"SD\", \"TN\", \"TX\", \"UT\", \"VT\", \"VA\", \"WA\", \"WV\", \"WI\", \"WY\"], \"z\": [8.823529411764707, 5.666666666666667, 9.148148148148149, 86.0, 9.778443113772456, 41.8, 3.08, 7.4, 122.0, 17.076923076923077, 8.195121951219512, 6.571428571428571, 34.0, 8.7, 36.857142857142854, null, 25.5, 4.184210526315789, 25.857142857142858, null, 23.272727272727273, 9.88, 16.84, 19.6875, 25.0, 16.1875, 5.571428571428571, 13.4, 19.25, 9.0, 6.0246913580246915, 37.5, 8.629411764705882, 39.416666666666664, null, 28.68421052631579, 16.857142857142858, 35.8, 12.64516129032258, 18.25, 31.0, null, 18.6, 19.035714285714285, 8.11111111111111, 10.0, 8.263157894736842, 32.63636363636363, null, 41.0, null], \"locationmode\": \"USA-states\", \"marker\": {\"line\": {\"color\": \"rgb(255,255,255)\", \"width\": 2}}, \"colorbar\": {\"title\": \"Density Hematology Oncologists (per Thalassemia capita)\"}}], {\"title\": \"Density Hematology Oncologists (per Thalassemia capita)\", \"geo\": {\"scope\": \"usa\", \"projection\": {\"type\": \"albers usa\"}, \"showlakes\": true, \"lakecolor\": \"rgb(255, 255, 255)\"}}, {\"showLink\": true, \"linkText\": \"Export to plot.ly\"})});</script>"
      ]
     },
     "metadata": {},
     "output_type": "display_data"
    }
   ],
   "source": [
    "data7 = [ dict(\n",
    "        type='choropleth',\n",
    "        colorscale = scl,\n",
    "        autocolorscale = False,\n",
    "        locations = df_doc['code'],\n",
    "        z = df_doc[\"Density Hematology Oncologists (per Thalassemia capita)\"],\n",
    "        locationmode = 'USA-states',\n",
    "        marker = dict(\n",
    "            line = dict (\n",
    "                color = 'rgb(255,255,255)',\n",
    "                width = 2\n",
    "            ) ),\n",
    "        colorbar = dict(\n",
    "            title = \"Density Hematology Oncologists (per Thalassemia capita)\")\n",
    "        ) ]\n",
    "\n",
    "layout2 = dict(\n",
    "        title = 'Density Hematology Oncologists (per Thalassemia capita)',\n",
    "        geo = dict(\n",
    "            scope='usa',\n",
    "            projection=dict( type='albers usa' ),\n",
    "            showlakes = True,\n",
    "            lakecolor = 'rgb(255, 255, 255)'),\n",
    "             )\n",
    "\n",
    "fig2 = dict( data=data7, layout=layout2 )\n",
    "iplot( fig2, filename='hematology-cloropleth-map' )"
   ]
  },
  {
   "cell_type": "code",
   "execution_count": 19,
   "metadata": {},
   "outputs": [
    {
     "data": {
      "application/vnd.plotly.v1+json": {
       "data": [
        {
         "autocolorscale": false,
         "colorbar": {
          "title": "Bone Marrow Medical Centers by Thalassemia Patients"
         },
         "colorscale": [
          [
           0,
           "rgb(165,0,38)"
          ],
          [
           0.1111111111111111,
           "rgb(215,48,39)"
          ],
          [
           0.2222222222222222,
           "rgb(244,109,67)"
          ],
          [
           0.3333333333333333,
           "rgb(253,174,97)"
          ],
          [
           0.4444444444444444,
           "rgb(254,224,144)"
          ],
          [
           0.5555555555555556,
           "rgb(224,243,248)"
          ],
          [
           0.6666666666666666,
           "rgb(171,217,233)"
          ],
          [
           0.7777777777777778,
           "rgb(116,173,209)"
          ],
          [
           0.8888888888888888,
           "rgb(69,117,180)"
          ],
          [
           1,
           "rgb(49,54,149)"
          ]
         ],
         "locationmode": "USA-states",
         "locations": [
          "AL",
          "AK",
          "AZ",
          "AR",
          "CA",
          "CO",
          "CT",
          "DE",
          "DC",
          "FL",
          "GA",
          "HI",
          "ID",
          "IL",
          "IN",
          "IA",
          "KS",
          "KY",
          "LA",
          "ME",
          "MD",
          "MA",
          "MI",
          "MN",
          "MS",
          "MO",
          "MT",
          "NE",
          "NV",
          "NH",
          "NJ",
          "NM",
          "NY",
          "NC",
          "ND",
          "OH",
          "OK",
          "OR",
          "PA",
          "RI",
          "SC",
          "SD",
          "TN",
          "TX",
          "UT",
          "VT",
          "VA",
          "WA",
          "WV",
          "WI",
          "WY"
         ],
         "marker": {
          "line": {
           "color": "rgb(255,255,255)",
           "width": 2
          }
         },
         "type": "choropleth",
         "z": [
          0,
          56.333333333333336,
          0.4074074074074074,
          341,
          11.29940119760479,
          73.4,
          1.16,
          12.6,
          39,
          17.73076923076923,
          12.195121951219512,
          0.2857142857142857,
          100,
          0,
          93.57142857142857,
          null,
          62.25,
          2.8421052631578947,
          9.142857142857142,
          null,
          31.318181818181817,
          0,
          24.16,
          34,
          186.33333333333334,
          3.3125,
          0,
          117.2,
          0,
          14.75,
          0.4691358024691358,
          181.5,
          0,
          0,
          null,
          44.63157894736842,
          11.714285714285714,
          45.2,
          12.516129032258064,
          5.5,
          20.4,
          null,
          32.53333333333333,
          28.839285714285715,
          24.444444444444443,
          47.75,
          0,
          51.72727272727273,
          null,
          10.666666666666666,
          null
         ]
        }
       ],
       "layout": {
        "geo": {
         "lakecolor": "rgb(255, 255, 255)",
         "projection": {
          "type": "albers usa"
         },
         "scope": "usa",
         "showlakes": true
        },
        "title": "Bone Marrow Medical Centers by Thalassemia Patients"
       }
      },
      "text/html": [
       "<div id=\"bf61db5c-5ffb-4eb1-a5d2-5eacffede544\" style=\"height: 525px; width: 100%;\" class=\"plotly-graph-div\"></div><script type=\"text/javascript\">require([\"plotly\"], function(Plotly) { window.PLOTLYENV=window.PLOTLYENV || {};window.PLOTLYENV.BASE_URL=\"https://plot.ly\";Plotly.newPlot(\"bf61db5c-5ffb-4eb1-a5d2-5eacffede544\", [{\"type\": \"choropleth\", \"colorscale\": [[0.0, \"rgb(165,0,38)\"], [0.1111111111111111, \"rgb(215,48,39)\"], [0.2222222222222222, \"rgb(244,109,67)\"], [0.3333333333333333, \"rgb(253,174,97)\"], [0.4444444444444444, \"rgb(254,224,144)\"], [0.5555555555555556, \"rgb(224,243,248)\"], [0.6666666666666666, \"rgb(171,217,233)\"], [0.7777777777777778, \"rgb(116,173,209)\"], [0.8888888888888888, \"rgb(69,117,180)\"], [1.0, \"rgb(49,54,149)\"]], \"autocolorscale\": false, \"locations\": [\"AL\", \"AK\", \"AZ\", \"AR\", \"CA\", \"CO\", \"CT\", \"DE\", \"DC\", \"FL\", \"GA\", \"HI\", \"ID\", \"IL\", \"IN\", \"IA\", \"KS\", \"KY\", \"LA\", \"ME\", \"MD\", \"MA\", \"MI\", \"MN\", \"MS\", \"MO\", \"MT\", \"NE\", \"NV\", \"NH\", \"NJ\", \"NM\", \"NY\", \"NC\", \"ND\", \"OH\", \"OK\", \"OR\", \"PA\", \"RI\", \"SC\", \"SD\", \"TN\", \"TX\", \"UT\", \"VT\", \"VA\", \"WA\", \"WV\", \"WI\", \"WY\"], \"z\": [0.0, 56.333333333333336, 0.4074074074074074, 341.0, 11.29940119760479, 73.4, 1.16, 12.6, 39.0, 17.73076923076923, 12.195121951219512, 0.2857142857142857, 100.0, 0.0, 93.57142857142857, null, 62.25, 2.8421052631578947, 9.142857142857142, null, 31.318181818181817, 0.0, 24.16, 34.0, 186.33333333333334, 3.3125, 0.0, 117.2, 0.0, 14.75, 0.4691358024691358, 181.5, 0.0, 0.0, null, 44.63157894736842, 11.714285714285714, 45.2, 12.516129032258064, 5.5, 20.4, null, 32.53333333333333, 28.839285714285715, 24.444444444444443, 47.75, 0.0, 51.72727272727273, null, 10.666666666666666, null], \"locationmode\": \"USA-states\", \"marker\": {\"line\": {\"color\": \"rgb(255,255,255)\", \"width\": 2}}, \"colorbar\": {\"title\": \"Bone Marrow Medical Centers by Thalassemia Patients\"}}], {\"title\": \"Bone Marrow Medical Centers by Thalassemia Patients\", \"geo\": {\"scope\": \"usa\", \"projection\": {\"type\": \"albers usa\"}, \"showlakes\": true, \"lakecolor\": \"rgb(255, 255, 255)\"}}, {\"showLink\": true, \"linkText\": \"Export to plot.ly\"})});</script>"
      ],
      "text/vnd.plotly.v1+html": [
       "<div id=\"bf61db5c-5ffb-4eb1-a5d2-5eacffede544\" style=\"height: 525px; width: 100%;\" class=\"plotly-graph-div\"></div><script type=\"text/javascript\">require([\"plotly\"], function(Plotly) { window.PLOTLYENV=window.PLOTLYENV || {};window.PLOTLYENV.BASE_URL=\"https://plot.ly\";Plotly.newPlot(\"bf61db5c-5ffb-4eb1-a5d2-5eacffede544\", [{\"type\": \"choropleth\", \"colorscale\": [[0.0, \"rgb(165,0,38)\"], [0.1111111111111111, \"rgb(215,48,39)\"], [0.2222222222222222, \"rgb(244,109,67)\"], [0.3333333333333333, \"rgb(253,174,97)\"], [0.4444444444444444, \"rgb(254,224,144)\"], [0.5555555555555556, \"rgb(224,243,248)\"], [0.6666666666666666, \"rgb(171,217,233)\"], [0.7777777777777778, \"rgb(116,173,209)\"], [0.8888888888888888, \"rgb(69,117,180)\"], [1.0, \"rgb(49,54,149)\"]], \"autocolorscale\": false, \"locations\": [\"AL\", \"AK\", \"AZ\", \"AR\", \"CA\", \"CO\", \"CT\", \"DE\", \"DC\", \"FL\", \"GA\", \"HI\", \"ID\", \"IL\", \"IN\", \"IA\", \"KS\", \"KY\", \"LA\", \"ME\", \"MD\", \"MA\", \"MI\", \"MN\", \"MS\", \"MO\", \"MT\", \"NE\", \"NV\", \"NH\", \"NJ\", \"NM\", \"NY\", \"NC\", \"ND\", \"OH\", \"OK\", \"OR\", \"PA\", \"RI\", \"SC\", \"SD\", \"TN\", \"TX\", \"UT\", \"VT\", \"VA\", \"WA\", \"WV\", \"WI\", \"WY\"], \"z\": [0.0, 56.333333333333336, 0.4074074074074074, 341.0, 11.29940119760479, 73.4, 1.16, 12.6, 39.0, 17.73076923076923, 12.195121951219512, 0.2857142857142857, 100.0, 0.0, 93.57142857142857, null, 62.25, 2.8421052631578947, 9.142857142857142, null, 31.318181818181817, 0.0, 24.16, 34.0, 186.33333333333334, 3.3125, 0.0, 117.2, 0.0, 14.75, 0.4691358024691358, 181.5, 0.0, 0.0, null, 44.63157894736842, 11.714285714285714, 45.2, 12.516129032258064, 5.5, 20.4, null, 32.53333333333333, 28.839285714285715, 24.444444444444443, 47.75, 0.0, 51.72727272727273, null, 10.666666666666666, null], \"locationmode\": \"USA-states\", \"marker\": {\"line\": {\"color\": \"rgb(255,255,255)\", \"width\": 2}}, \"colorbar\": {\"title\": \"Bone Marrow Medical Centers by Thalassemia Patients\"}}], {\"title\": \"Bone Marrow Medical Centers by Thalassemia Patients\", \"geo\": {\"scope\": \"usa\", \"projection\": {\"type\": \"albers usa\"}, \"showlakes\": true, \"lakecolor\": \"rgb(255, 255, 255)\"}}, {\"showLink\": true, \"linkText\": \"Export to plot.ly\"})});</script>"
      ]
     },
     "metadata": {},
     "output_type": "display_data"
    }
   ],
   "source": [
    "data9 = [ dict(\n",
    "        type='choropleth',\n",
    "        colorscale = scl,\n",
    "        autocolorscale = False,\n",
    "        locations = df_doc['code'],\n",
    "        z = df_doc[\"Bone Marrow Medical Centers by Thalassemia Patients\"],\n",
    "        locationmode = 'USA-states',\n",
    "        marker = dict(\n",
    "            line = dict (\n",
    "                color = 'rgb(255,255,255)',\n",
    "                width = 2\n",
    "            ) ),\n",
    "        colorbar = dict(\n",
    "            title = \"Bone Marrow Medical Centers by Thalassemia Patients\")\n",
    "        ) ]\n",
    "\n",
    "layout2 = dict(\n",
    "        title = 'Bone Marrow Medical Centers by Thalassemia Patients',\n",
    "        geo = dict(\n",
    "            scope='usa',\n",
    "            projection=dict( type='albers usa' ),\n",
    "            showlakes = True,\n",
    "            lakecolor = 'rgb(255, 255, 255)'),\n",
    "             )\n",
    "\n",
    "fig2 = dict( data=data9, layout=layout2 )\n",
    "iplot( fig2, filename='bone-marrow-medical-centers-cloropleth-map' )"
   ]
  },
  {
   "cell_type": "code",
   "execution_count": null,
   "metadata": {},
   "outputs": [],
   "source": []
  },
  {
   "cell_type": "code",
   "execution_count": null,
   "metadata": {},
   "outputs": [],
   "source": []
  }
 ],
 "metadata": {
  "kernelspec": {
   "display_name": "Python 3",
   "language": "python",
   "name": "python3"
  },
  "language_info": {
   "codemirror_mode": {
    "name": "ipython",
    "version": 3
   },
   "file_extension": ".py",
   "mimetype": "text/x-python",
   "name": "python",
   "nbconvert_exporter": "python",
   "pygments_lexer": "ipython3",
   "version": "3.6.4"
  }
 },
 "nbformat": 4,
 "nbformat_minor": 2
}
